{
 "cells": [
  {
   "attachments": {},
   "cell_type": "markdown",
   "metadata": {},
   "source": [
    "# Week of 4/17 -- Lesson 1\n",
    "> Merge Sort Hacks\n",
    "\n",
    "- toc: true \n",
    "- badges: true\n",
    "- comments: true\n",
    "- categories: [jupyter]\n",
    "- image: "
   ]
  },
  {
   "attachments": {},
   "cell_type": "markdown",
   "metadata": {},
   "source": [
    "## Quick Disclaimer\n",
    "- I apologize for the wack formatting, I don't know what happened but my blog acted up tonight and I'm just going to leave all the hacks in this one blog if that's okay. Sorry again for the inconvenience. "
   ]
  },
  {
   "attachments": {},
   "cell_type": "markdown",
   "metadata": {},
   "source": [
    "## Merge Sort Hack # 1\n",
    "- Use the integer mergesort that we created and adapt it to sort an array of Java String objects. We recommend using the compareTo() method of the String class for this."
   ]
  },
  {
   "cell_type": "code",
   "execution_count": 16,
   "metadata": {
    "vscode": {
     "languageId": "java"
    }
   },
   "outputs": [
    {
     "name": "stdout",
     "output_type": "stream",
     "text": [
      "Unsorted array: [7, 8, 2, 4, 5, 3]\n",
      "Sorted array: [2, 3, 4, 5, 7, 8]\n"
     ]
    }
   ],
   "source": [
    "public class Merge{\n",
    "   \n",
    "    public static void mergeSort(int[] arr) {\n",
    "        // base case: array has 1 or 0 elements\n",
    "        if (arr.length <= 1) {\n",
    "            return;\n",
    "        }\n",
    "        \n",
    "        // divide the array into two halves\n",
    "        int mid = arr.length / 2;\n",
    "        int[] left = Arrays.copyOfRange(arr, 0, mid);\n",
    "        int[] right = Arrays.copyOfRange(arr, mid, arr.length);\n",
    "        \n",
    "        // recursively sort each half\n",
    "        mergeSort(left);\n",
    "        mergeSort(right);\n",
    "        \n",
    "        // merge the two sorted halves\n",
    "        int i = 0;\n",
    "        int j = 0;\n",
    "        int k = 0;\n",
    "        while (i < left.length && j < right.length) {\n",
    "            if (left[i] <= right[j]) {\n",
    "                arr[k] = left[i];\n",
    "                i++;\n",
    "            } else {\n",
    "                arr[k] = right[j];\n",
    "                j++;\n",
    "            }\n",
    "            k++;\n",
    "        }\n",
    "        while (i < left.length) {\n",
    "            arr[k] = left[i];\n",
    "            i++;\n",
    "            k++;\n",
    "        }\n",
    "        while (j < right.length) {\n",
    "            arr[k] = right[j];\n",
    "            j++;\n",
    "            k++;\n",
    "        }\n",
    "    }\n",
    "\n",
    "    public static void main(String[] args) {\n",
    "        int[] array = {7, 8, 2, 4, 5, 3};\n",
    "        \n",
    "        // sort the array using merge sort\n",
    "        System.out.println(\"Unsorted array: \" + Arrays.toString(array));\n",
    "        mergeSort(array);\n",
    "        System.out.println(\"Sorted array: \" + Arrays.toString(array)); \n",
    "    }\n",
    "}\n",
    "\n",
    "Merge.main(null);"
   ]
  },
  {
   "attachments": {},
   "cell_type": "markdown",
   "metadata": {},
   "source": [
    "## Binary Search Hack # 1\n",
    "- Given an int array[] = {1, 3, 5, 7, 9, 23, 45, 67}, search the number 45 and give it's index with Binary search, BUT do this using recursion. Make sure to include informative comments to explain the code as you write the algorithm."
   ]
  },
  {
   "cell_type": "code",
   "execution_count": 2,
   "metadata": {
    "vscode": {
     "languageId": "java"
    }
   },
   "outputs": [
    {
     "name": "stdout",
     "output_type": "stream",
     "text": [
      "The target number 45 is found at index 6.\n"
     ]
    }
   ],
   "source": [
    "public class BinarySearchRecursive {\n",
    "    \n",
    "    /**\n",
    "     * Recursive binary search method to find the index of a target number in an array\n",
    "     *\n",
    "     * @param arr the int array to search\n",
    "     * @param target the number to search for\n",
    "     * @param low the lower index of the search range\n",
    "     * @param high the upper index of the search range\n",
    "     * @return the index of the target number in the array, or -1 if not found\n",
    "     */\n",
    "    public static int binarySearch(int[] arr, int target, int low, int high) {\n",
    "        // base case: search range is empty\n",
    "        if (low > high) {\n",
    "            return -1;\n",
    "        }\n",
    "        \n",
    "        // calculate the middle index of the search range\n",
    "        int mid = (low + high) / 2;\n",
    "        \n",
    "        // check if the middle element is the target\n",
    "        if (arr[mid] == target) {\n",
    "            return mid;\n",
    "        }\n",
    "        \n",
    "        // recursively search the left or right half of the array based on the target value\n",
    "        if (target < arr[mid]) {\n",
    "            return binarySearch(arr, target, low, mid - 1);\n",
    "        } else {\n",
    "            return binarySearch(arr, target, mid + 1, high);\n",
    "        }\n",
    "    }\n",
    "    \n",
    "    public static void main(String[] args) {\n",
    "        int[] arr = {1, 3, 5, 7, 9, 23, 45, 67};\n",
    "        int target = 45;\n",
    "        int low = 0;\n",
    "        int high = arr.length - 1;\n",
    "        \n",
    "        // call the recursive binary search method\n",
    "        int index = binarySearch(arr, target, low, high);\n",
    "        \n",
    "        // print the result\n",
    "        if (index != -1) {\n",
    "            System.out.println(\"The target number \" + target + \" is found at index \" + index + \".\");\n",
    "        } else {\n",
    "            System.out.println(\"The target number \" + target + \" is not found in the array.\");\n",
    "        }\n",
    "    }\n",
    "}\n",
    "\n",
    "BinarySearchRecursive.main(null);"
   ]
  },
  {
   "attachments": {},
   "cell_type": "markdown",
   "metadata": {},
   "source": [
    "## Binary Search Hack #2 EC\n",
    "-  Given an unsorted array of int[] array = {5, 6, 3, 1, 8, 9, 4, 7, 2}, use merge sort as taught previously and combine learning with this lesson to implement a binary search to find index of the number 7."
   ]
  },
  {
   "cell_type": "code",
   "execution_count": 14,
   "metadata": {
    "vscode": {
     "languageId": "java"
    }
   },
   "outputs": [
    {
     "name": "stdout",
     "output_type": "stream",
     "text": [
      "Sorted array: [1, 2, 3, 4, 5, 6, 7, 8, 9]\n",
      "The target number 7 is found at index 6.\n"
     ]
    }
   ],
   "source": [
    "import java.util.Arrays;\n",
    "\n",
    "public class MergeSortBinarySearch {\n",
    "    \n",
    "    /**\n",
    "     * Merge sort method to sort an int array\n",
    "     *\n",
    "     * @param arr the int array to sort\n",
    "     */\n",
    "    public static void mergeSort(int[] arr) {\n",
    "        // base case: array has 1 or 0 elements\n",
    "        if (arr.length <= 1) {\n",
    "            return;\n",
    "        }\n",
    "        \n",
    "        // divide the array into two halves\n",
    "        int mid = arr.length / 2;\n",
    "        int[] left = Arrays.copyOfRange(arr, 0, mid);\n",
    "        int[] right = Arrays.copyOfRange(arr, mid, arr.length);\n",
    "        \n",
    "        // recursively sort each half\n",
    "        mergeSort(left);\n",
    "        mergeSort(right);\n",
    "        \n",
    "        // merge the two sorted halves\n",
    "        int i = 0;\n",
    "        int j = 0;\n",
    "        int k = 0;\n",
    "        while (i < left.length && j < right.length) {\n",
    "            if (left[i] <= right[j]) {\n",
    "                arr[k] = left[i];\n",
    "                i++;\n",
    "            } else {\n",
    "                arr[k] = right[j];\n",
    "                j++;\n",
    "            }\n",
    "            k++;\n",
    "        }\n",
    "        while (i < left.length) {\n",
    "            arr[k] = left[i];\n",
    "            i++;\n",
    "            k++;\n",
    "        }\n",
    "        while (j < right.length) {\n",
    "            arr[k] = right[j];\n",
    "            j++;\n",
    "            k++;\n",
    "        }\n",
    "    }\n",
    "    \n",
    "    /**\n",
    "     * Binary search method to find the index of a target number in a sorted array\n",
    "     *\n",
    "     * @param arr the sorted int array to search\n",
    "     * @param target the number to search for\n",
    "     * @param low the lower index of the search range\n",
    "     * @param high the upper index of the search range\n",
    "     * @return the index of the target number in the array, or -1 if not found\n",
    "     */\n",
    "    public static int binarySearch(int[] arr, int newTarget, int low, int high) {\n",
    "        // base case: search range is empty\n",
    "        if (low > high) {\n",
    "            return -1;\n",
    "        }\n",
    "        \n",
    "        // calculate the middle index of the search range\n",
    "        int mid = (low + high) / 2;\n",
    "        \n",
    "        // check if the middle element is the target\n",
    "        if (arr[mid] == newTarget) {\n",
    "            return mid;\n",
    "        }\n",
    "        \n",
    "        // recursively search the left or right half of the array based on the target value\n",
    "        if (newTarget < arr[mid]) {\n",
    "            return binarySearch(arr, newTarget, low, mid - 1);\n",
    "        } else {\n",
    "            return binarySearch(arr, newTarget, mid + 1, high);\n",
    "        }\n",
    "    }\n",
    "    \n",
    "    public static void main(String[] args) {\n",
    "        int[] array = {5, 6, 3, 1, 8, 9, 4, 7, 2};\n",
    "        \n",
    "        // sort the array using merge sort\n",
    "        mergeSort(array);\n",
    "        System.out.println(\"Sorted array: \" + Arrays.toString(array));\n",
    "        \n",
    "        // find the index of the number 7 using binary search\n",
    "        int newTarget = 7;\n",
    "        int low = 0;\n",
    "        int high = array.length - 1;\n",
    "        int index = binarySearch(array, newTarget, low, high);\n",
    "        \n",
    "        // print the result\n",
    "        if (index != -1) {\n",
    "            System.out.println(\"The target number \" + newTarget + \" is found at index \" + index + \".\");\n",
    "        } else {\n",
    "            System.out.println(\"The target number \" + newTarget + \" is not found in the array.\");\n",
    "        }\n",
    "    }\n",
    "}\n",
    "\n",
    "MergeSortBinarySearch.main(null);"
   ]
  }
 ],
 "metadata": {
  "kernelspec": {
   "display_name": "Java",
   "language": "java",
   "name": "java"
  },
  "language_info": {
   "codemirror_mode": "java",
   "file_extension": ".jshell",
   "mimetype": "text/x-java-source",
   "name": "Java",
   "pygments_lexer": "java",
   "version": "11.0.16+8-post-Ubuntu-0ubuntu120.04"
  },
  "orig_nbformat": 4
 },
 "nbformat": 4,
 "nbformat_minor": 2
}
