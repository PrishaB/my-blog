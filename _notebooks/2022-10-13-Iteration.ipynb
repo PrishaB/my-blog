{
 "cells": [
  {
   "cell_type": "markdown",
   "metadata": {},
   "source": [
    "# Iteration Lesson Hacks\n",
    "> My attempt at the Iteration Lesson hw\n",
    "\n",
    "- toc: true \n",
    "- badges: true\n",
    "- comments: true\n",
    "- categories: [jupyter]\n",
    "- image: "
   ]
  },
  {
   "cell_type": "markdown",
   "metadata": {},
   "source": [
    "## Code for Random Number Guesser Game\n",
    "Make a program where computer generates a number and user has to guess the right number. Iterate till correct guess and also give hints."
   ]
  },
  {
   "cell_type": "code",
   "execution_count": 2,
   "metadata": {
    "vscode": {
     "languageId": "java"
    }
   },
   "outputs": [
    {
     "name": "stdout",
     "output_type": "stream",
     "text": [
      "Guess a number 1-500: \n",
      "4 - Your guess is too low!\n",
      "Guess a number 1-500: \n",
      "100 - Your guess is too low!\n",
      "Guess a number 1-500: \n",
      "300 - Your guess is too high!\n",
      "Guess a number 1-500: \n",
      "200 - Your guess is too low!\n",
      "Guess a number 1-500: \n",
      "250 - Your guess is too high!\n",
      "Guess a number 1-500: \n",
      "225 - Your guess is too low!\n",
      "Guess a number 1-500: \n",
      "240 - Your guess is too high!\n",
      "Guess a number 1-500: \n",
      "230 - Your guess is too high!\n",
      "Guess a number 1-500: \n",
      "227 - Congratulations! You got it right in 9 guesses !\n"
     ]
    }
   ],
   "source": [
    "import java.util.*;\n",
    "import java.lang.Math;\n",
    "\n",
    "public class GuesserGame {\n",
    "    private int secret;\n",
    "    private boolean game = false;\n",
    "\n",
    "    public void guess(){\n",
    "        secret = (int) (Math.random() * 500);\n",
    "        int num = 0;\n",
    "        int guesscount = 0;\n",
    "\n",
    "        while (!game){\n",
    "            System.out.println(\"Guess a number 1-500: \");\n",
    "\n",
    "            // Scanner for int\n",
    "            Scanner sc = new Scanner(System.in);\n",
    "            num = sc.nextInt();\n",
    "            System.out.print(\"\" + num + \" - \");\n",
    "            // increment guesscount and check if guess is correct\n",
    "            guesscount++;\n",
    "            if (num == secret) {\n",
    "                System.out.println(\"Congratulations! You got it right in \" + guesscount + \" guesses !\");\n",
    "                game = true;\n",
    "            }\n",
    "            else if (num > secret) {\n",
    "                System.out.println(\"Your guess is too high!\");\n",
    "            }\n",
    "            else if (num < secret) {\n",
    "                System.out.println(\"Your guess is too low!\");\n",
    "            }\n",
    "        }\n",
    "    }\n",
    "\n",
    "    public void guess(int num){\n",
    "        \n",
    "        \n",
    "        \n",
    "    }\n",
    "}\n",
    "\n",
    "GuesserGame a = new GuesserGame();\n",
    "a.guess();"
   ]
  }
 ],
 "metadata": {
  "kernelspec": {
   "display_name": "Java",
   "language": "java",
   "name": "java"
  },
  "language_info": {
   "codemirror_mode": "java",
   "file_extension": ".jshell",
   "mimetype": "text/x-java-source",
   "name": "Java",
   "pygments_lexer": "java",
   "version": "11.0.16+8-post-Ubuntu-0ubuntu120.04"
  },
  "orig_nbformat": 4
 },
 "nbformat": 4,
 "nbformat_minor": 2
}
