{
 "cells": [
  {
   "cell_type": "markdown",
   "metadata": {},
   "source": [
    "# Blogging Upload Feature on Website\n",
    "> Explaining Code + Problems I had\n",
    "\n",
    "- toc: true \n",
    "- badges: true\n",
    "- comments: true\n",
    "- categories: [jupyter]\n",
    "- image: "
   ]
  },
  {
   "attachments": {},
   "cell_type": "markdown",
   "metadata": {},
   "source": [
    "## Extra Seed Point\n",
    "- Java Addition \n",
    "\n",
    "- Method 1, using built in Java program Integer.toBinaryString "
   ]
  },
  {
   "cell_type": "code",
   "execution_count": 8,
   "metadata": {
    "vscode": {
     "languageId": "java"
    }
   },
   "outputs": [
    {
     "name": "stdout",
     "output_type": "stream",
     "text": [
      "Number 1: 1\n",
      "Number 2: 1\n",
      "Decimal addition sum: 10\n",
      "Final Result: 1 + 1 = 10\n"
     ]
    }
   ],
   "source": [
    "import java.util.Scanner;\n",
    "\n",
    "class Main {\n",
    "  public static void main(String[] args) {\n",
    "    Scanner myObj = new Scanner(System.in);\n",
    "\n",
    "    int num1 = myObj.nextInt();\n",
    "    System.out.println(\"Number 1: \" + num1);\n",
    "\n",
    "    int num2 = myObj.nextInt();\n",
    "    System.out.println(\"Number 2: \" + num2);\n",
    "\n",
    "    int decSum = num1 + num2;\n",
    "\n",
    "    // Output input by user\n",
    "    System.out.println(\"Decimal addition sum: \" + Integer.toBinaryString(decSum));\n",
    "    System.out.println(\"Final Result: \" + num1 + \" + \" + num2 + \" = \" + Integer.toBinaryString(decSum));\n",
    "  }\n",
    "}\n",
    "\n",
    "Main.main(null);\n"
   ]
  },
  {
   "attachments": {},
   "cell_type": "markdown",
   "metadata": {},
   "source": [
    "- Method 2, custom method...divide decimal by value...\n",
    "> - Remainder becomes binary value and divide quotient by 2 until you are left with 0 (since it's using integers it'll eventually come down to 1/2 which equals 0)"
   ]
  },
  {
   "cell_type": "code",
   "execution_count": 6,
   "metadata": {
    "vscode": {
     "languageId": "java"
    }
   },
   "outputs": [
    {
     "name": "stdout",
     "output_type": "stream",
     "text": [
      "Number 1: 1\n",
      "Number 2: 1\n",
      "Decimal addition sum: 10\n",
      "Final Result: 1 + 1 = 10\n"
     ]
    }
   ],
   "source": [
    "import java.util.Scanner;\n",
    "\n",
    "class Main {\n",
    "  public static void main(String[] args) {\n",
    "    Scanner myObj = new Scanner(System.in);\n",
    "\n",
    "    int num1 = myObj.nextInt();\n",
    "    System.out.println(\"Number 1: \" + num1);\n",
    "\n",
    "    int num2 = myObj.nextInt();\n",
    "    System.out.println(\"Number 2: \" + num2);\n",
    "\n",
    "    int decSum = num1 + num2;\n",
    "\n",
    "    int n = decSum;\n",
    "\n",
    "    long binNum = 0;\n",
    "    int remainder, i = 1, step = 1;\n",
    "\n",
    "    while (n!=0) {\n",
    "      remainder = n % 2;\n",
    "        n /= 2;\n",
    "\n",
    "        binNum += remainder * i;\n",
    "        i *= 10;\n",
    "    }\n",
    "    \n",
    "    System.out.println(\"Decimal addition sum: \" + binNum);\n",
    "    System.out.println(\"Final Result: \" + num1 + \" + \" + num2 + \" = \" + binNum);\n",
    "    }\n",
    "\n",
    "  }\n",
    "\n",
    "Main.main(null);"
   ]
  }
 ],
 "metadata": {
  "kernelspec": {
   "display_name": "Java",
   "language": "java",
   "name": "java"
  },
  "language_info": {
   "codemirror_mode": "java",
   "file_extension": ".jshell",
   "mimetype": "text/x-java-source",
   "name": "Java",
   "pygments_lexer": "java",
   "version": "11.0.16+8-post-Ubuntu-0ubuntu120.04"
  },
  "orig_nbformat": 4
 },
 "nbformat": 4,
 "nbformat_minor": 2
}
