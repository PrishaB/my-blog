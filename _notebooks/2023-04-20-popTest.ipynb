{
 "cells": [
  {
   "attachments": {},
   "cell_type": "markdown",
   "metadata": {},
   "source": [
    "# Test that Occurred Due to Some Idiot Triggering Mr. M\n",
    "> idk man ;-;\n",
    "\n",
    "- toc: true \n",
    "- badges: true\n",
    "- comments: true\n",
    "- categories: [jupyter]\n",
    "- image: "
   ]
  },
  {
   "attachments": {},
   "cell_type": "markdown",
   "metadata": {},
   "source": [
    "## Close Book Part of Test:\n",
    "- Define 1 Argument constructor for title\n",
    "- Define toString method for title, and a tester method\n",
    "- Generate unique id for class\n",
    "- Create a public getter that has Book Count\n",
    "- Define tester method that initializes at least 2 books, outputs title, and provides a count of books in library."
   ]
  },
  {
   "cell_type": "code",
   "execution_count": 18,
   "metadata": {},
   "outputs": [
    {
     "name": "stdout",
     "output_type": "stream",
     "text": [
      "Book{id='219fd2cf-a293-463e-b5fa-e39e0f538a05', title='The Great Gatsby'}\n",
      "Book{id='40ffd3b9-186f-41b7-bd49-9896d4604984', title='To Kill a Mockingbird'}\n",
      "Number of books in library: 2\n"
     ]
    }
   ],
   "source": [
    "import java.util.UUID; //built in Java method that allows user to generate a Universally Unique Identifier --> guarantees each ID is unique\n",
    "\n",
    "public class Book {\n",
    "    private final String id;\n",
    "    private final String title;\n",
    "    private static int bookCount;\n",
    "\n",
    "    //initializing two instance variables...ID and title\n",
    "    public Book(String title) {\n",
    "        this.id = UUID.randomUUID().toString(); //Telling id to be a randomly generated UUID\n",
    "        this.title = title; \n",
    "        bookCount++; //adding to bookCount\n",
    "    }\n",
    "\n",
    "    //Getters for id, title, and bookCount\n",
    "    public String getId() {\n",
    "        return id;\n",
    "    }\n",
    "\n",
    "    public String getTitle() {\n",
    "        return title;\n",
    "    }\n",
    "\n",
    "    public static int getBookCount() {\n",
    "        return bookCount;\n",
    "    }\n",
    "\n",
    "    @Override\n",
    "    //toString method\n",
    "    public String toString() {\n",
    "        return \"Book{\" +\n",
    "                \"id='\" + id + '\\'' +\n",
    "                \", title='\" + title + '\\'' +\n",
    "                '}';\n",
    "    }\n",
    "\n",
    "    public static void main(String[] args) {\n",
    "        Book book1 = new Book(\"The Great Gatsby\");\n",
    "        Book book2 = new Book(\"To Kill a Mockingbird\");\n",
    "\n",
    "        System.out.println(book1);\n",
    "        System.out.println(book2);\n",
    "        System.out.println(\"Number of books in library: \" + Book.getBookCount());\n",
    "    }\n",
    "}\n",
    "\n",
    "Book.main(null);\n"
   ]
  },
  {
   "attachments": {},
   "cell_type": "markdown",
   "metadata": {},
   "source": [
    "## Open Book Part of the Exam\n",
    "- Ensure Novel and Textbook run the Constructor from Book\n",
    "- Create instance variables unique to Novel has Author, Textbook has publishing company. These are not required in Constructor. Make sure there are getters and setters.\n",
    "- Define a default method in Book that returns shelfLife from date/time of constructor. Define shelfLife methods as method in TextBook and Novel. A Textbook has a fixed shelf life based on the date/time constructor. A Novel has a computed shelf life and is validated by averaging a certain number of Checkouts average over shelf life, use sensible data structure.\n",
    "- Make a method to count time book is checked out\n",
    "- Make a method to determine if book should come off of the shelf\n",
    "- Define tester method to test items  #1-#5"
   ]
  }
 ],
 "metadata": {
  "kernelspec": {
   "display_name": "Java",
   "language": "java",
   "name": "java"
  },
  "language_info": {
   "codemirror_mode": "java",
   "file_extension": ".jshell",
   "mimetype": "text/x-java-source",
   "name": "java",
   "pygments_lexer": "java",
   "version": "11.0.16+8-post-Ubuntu-0ubuntu120.04"
  },
  "orig_nbformat": 4
 },
 "nbformat": 4,
 "nbformat_minor": 2
}
