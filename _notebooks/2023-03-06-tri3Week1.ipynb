{
 "cells": [
  {
   "attachments": {},
   "cell_type": "markdown",
   "metadata": {},
   "source": [
    "# Queue Hacks :D\n",
    "> Exploring Queue Stuff\n",
    "\n",
    "- toc: true \n",
    "- badges: true\n",
    "- comments: true\n",
    "- categories: [jupyter]\n",
    "- image: "
   ]
  },
  {
   "attachments": {},
   "cell_type": "markdown",
   "metadata": {},
   "source": [
    "## Hack 1\n",
    "\n",
    "- Add/delete elements from a queue"
   ]
  },
  {
   "cell_type": "code",
   "execution_count": 3,
   "metadata": {},
   "outputs": [
    {
     "name": "stdout",
     "output_type": "stream",
     "text": [
      "Enqueued data: seven\n",
      "Words count: 1, data: seven\n",
      "\n",
      "Enqueued data: slimy\n",
      "Words count: 2, data: seven slimy\n",
      "\n",
      "Enqueued data: snakes\n",
      "Words count: 3, data: seven slimy snakes\n",
      "\n",
      "Enqueued data: sallying\n",
      "Words count: 4, data: seven slimy snakes sallying\n",
      "\n",
      "Enqueued data: slowly\n",
      "Words count: 5, data: seven slimy snakes sallying slowly\n",
      "\n",
      "Enqueued data: slithered\n",
      "Words count: 6, data: seven slimy snakes sallying slowly slithered\n",
      "\n",
      "Enqueued data: southward\n",
      "Words count: 7, data: seven slimy snakes sallying slowly slithered southward\n",
      "\n",
      "Dequeued data: seven\n",
      "Words count: 6, data: slimy snakes sallying slowly slithered southward\n",
      "\n",
      "Dequeued data: slimy\n",
      "Words count: 5, data: snakes sallying slowly slithered southward\n",
      "\n",
      "Dequeued data: snakes\n",
      "Words count: 4, data: sallying slowly slithered southward\n",
      "\n",
      "Dequeued data: sallying\n",
      "Words count: 3, data: slowly slithered southward\n",
      "\n",
      "Dequeued data: slowly\n",
      "Words count: 2, data: slithered southward\n",
      "\n",
      "Dequeued data: slithered\n",
      "Words count: 1, data: southward\n",
      "\n",
      "Dequeued data: southward\n",
      "Words count: 0, data: \n",
      "\n"
     ]
    }
   ],
   "source": [
    "public class QueueExample {\n",
    "  public static void main(String[] args) {\n",
    "      Queue<String> queue = new LinkedList<String>();\n",
    "      \n",
    "      // Adding elements to the queue\n",
    "      queue.add(\"seven\");\n",
    "      System.out.println(\"Enqueued data: \" + \"seven\");\n",
    "      printQueue(queue);\n",
    "\n",
    "      queue.add(\"slimy\");\n",
    "      System.out.println(\"Enqueued data: \" + \"slimy\");\n",
    "      printQueue(queue);\n",
    "\n",
    "      queue.add(\"snakes\");\n",
    "      System.out.println(\"Enqueued data: \" + \"snakes\");\n",
    "      printQueue(queue);\n",
    "\n",
    "      queue.add(\"sallying\");\n",
    "      System.out.println(\"Enqueued data: \" + \"sallying\");\n",
    "      printQueue(queue);\n",
    "\n",
    "      queue.add(\"slowly\");\n",
    "      System.out.println(\"Enqueued data: \" + \"slowly\");\n",
    "      printQueue(queue);\n",
    "\n",
    "      queue.add(\"slithered\");\n",
    "      System.out.println(\"Enqueued data: \" + \"slithered\");\n",
    "      printQueue(queue);\n",
    "\n",
    "      queue.add(\"southward\");\n",
    "      System.out.println(\"Enqueued data: \" + \"southward\");\n",
    "      printQueue(queue);\n",
    "\n",
    "      // Removing elements from the queue\n",
    "      String data = queue.remove();\n",
    "\n",
    "      System.out.println(\"Dequeued data: \" + data);\n",
    "      printQueue(queue);\n",
    "\n",
    "      data = queue.remove();\n",
    "      System.out.println(\"Dequeued data: \" + data);\n",
    "      printQueue(queue);\n",
    "\n",
    "      data = queue.remove();\n",
    "      System.out.println(\"Dequeued data: \" + data);\n",
    "      printQueue(queue);\n",
    "\n",
    "      data = queue.remove();\n",
    "      System.out.println(\"Dequeued data: \" + data);\n",
    "      printQueue(queue);\n",
    "\n",
    "      data = queue.remove();\n",
    "      System.out.println(\"Dequeued data: \" + data);\n",
    "      printQueue(queue);\n",
    "\n",
    "      data = queue.remove();\n",
    "      System.out.println(\"Dequeued data: \" + data);\n",
    "      printQueue(queue);\n",
    "\n",
    "      data = queue.remove();\n",
    "      System.out.println(\"Dequeued data: \" + data);\n",
    "      printQueue(queue);\n",
    "  }\n",
    "\n",
    "  // Helper method to print the contents of the queue\n",
    "  public static void printQueue(Queue<String> queue) {\n",
    "      System.out.println(\"Words count: \" + queue.size() + \", data: \" + String.join(\" \", queue));\n",
    "      System.out.println();\n",
    "  }\n",
    "}\n",
    "\n",
    "QueueExample.main(null);"
   ]
  },
  {
   "attachments": {},
   "cell_type": "markdown",
   "metadata": {},
   "source": [
    "## Hack 2\n",
    "\n",
    "- Merge 2 queues together"
   ]
  },
  {
   "cell_type": "code",
   "execution_count": 4,
   "metadata": {},
   "outputs": [
    {
     "name": "stdout",
     "output_type": "stream",
     "text": [
      "Queue 1: [1, 3, 5]\n",
      "Queue 2: [2, 4, 6]\n",
      "Merged Queue: [1, 2, 3, 4, 5, 6]\n"
     ]
    }
   ],
   "source": [
    "import java.util.*;\n",
    "\n",
    "public class MergeQueues {\n",
    "    public static <T extends Comparable<T>> Queue<T> mergeQueues(Queue<T> queue1, Queue<T> queue2) {\n",
    "        Queue<T> mergedQueue = new LinkedList<>();\n",
    "\n",
    "        while (!queue1.isEmpty() && !queue2.isEmpty()) {\n",
    "            if (queue1.peek().compareTo(queue2.peek()) < 0) {\n",
    "                mergedQueue.offer(queue1.poll());\n",
    "            } else {\n",
    "                mergedQueue.offer(queue2.poll());\n",
    "            }\n",
    "        }\n",
    "\n",
    "        while (!queue1.isEmpty()) {\n",
    "            mergedQueue.offer(queue1.poll());\n",
    "        }\n",
    "\n",
    "        while (!queue2.isEmpty()) {\n",
    "            mergedQueue.offer(queue2.poll());\n",
    "        }\n",
    "\n",
    "        return mergedQueue;\n",
    "    }\n",
    "\n",
    "    public static void main(String[] args) {\n",
    "        Queue<Integer> queue1 = new LinkedList<>(Arrays.asList(1, 3, 5));\n",
    "        Queue<Integer> queue2 = new LinkedList<>(Arrays.asList(2, 4, 6));\n",
    "\n",
    "        System.out.println(\"Queue 1: \" + queue1);\n",
    "        System.out.println(\"Queue 2: \" + queue2);\n",
    "        \n",
    "        Queue<Integer> mergedQueue = mergeQueues(queue1, queue2);\n",
    "\n",
    "        System.out.println(\"Merged Queue: \" + mergedQueue);\n",
    "    }\n",
    "}\n",
    "\n",
    "MergeQueues.main(null);"
   ]
  },
  {
   "attachments": {},
   "cell_type": "markdown",
   "metadata": {},
   "source": [
    "## Explanation of Hack 2\n",
    "\n",
    "- The generic method mergeQueues takes two queues (queue1 and queue2) as arguments and returns a new queue mergedQueue\n",
    "- Method uses a while loop to compare the front elements of both queues and add the smaller element to the new queue\n",
    "- The method then adds the remaining elements of the non-empty queue to the new queue. Finally returns the merged queue.\n",
    "\n",
    "In the main method, we create two integer queues queue1 and queue2 with some values and merge them using the mergeQueues method. We then print the merged queue using System.out.println."
   ]
  },
  {
   "attachments": {},
   "cell_type": "markdown",
   "metadata": {},
   "source": [
    "## Hack 3 \n",
    "\n",
    "- Shuffle Items "
   ]
  },
  {
   "cell_type": "code",
   "execution_count": 13,
   "metadata": {},
   "outputs": [
    {
     "name": "stdout",
     "output_type": "stream",
     "text": [
      "//Start with ordered Queue: \n",
      "[1, 2, 3, 4, 5]\n",
      "//Finish with shuffled Queue: \n",
      "5 3 2 4 1 "
     ]
    }
   ],
   "source": [
    "import java.util.*;\n",
    "\n",
    "public class ShuffleQueue {\n",
    "    public static void main(String[] args) {\n",
    "        Queue<Integer> queue = new LinkedList<>(Arrays.asList(1, 2, 3, 4, 5));\n",
    "\n",
    "        System.out.println(\"//Start with ordered Queue: \");\n",
    "        System.out.println(queue);\n",
    "\n",
    "        // Shuffle the elements in the queue\n",
    "        Collections.shuffle((List<Integer>) queue);\n",
    "\n",
    "        System.out.println(\"//Finish with shuffled Queue: \");\n",
    "        // Display the shuffled elements in the queue\n",
    "        while (!queue.isEmpty()) {\n",
    "            System.out.print(queue.poll() + \" \");\n",
    "        }\n",
    "    }\n",
    "}\n",
    "\n",
    "ShuffleQueue.main(null);"
   ]
  },
  {
   "attachments": {},
   "cell_type": "markdown",
   "metadata": {},
   "source": [
    "## Hack 3 Explanation\n",
    "\n",
    "- Created an integer queue queue with some values\n",
    "- Then use the Collections.shuffle() method to shuffle the elements in the queue \n",
    "    - The method takes a List as an argument, so we cast the queue to a list using (List<Integer>)\n",
    "- Finally, display the shuffled elements in the queue using a while loop and the poll() method to remove and return the front element of the queue\n",
    "\n",
    "When you run this code, you should see the elements in the queue displayed in a random order. The output will vary each time you run the program, depending on how the elements are shuffled."
   ]
  },
  {
   "attachments": {},
   "cell_type": "markdown",
   "metadata": {},
   "source": [
    "## Hack 4 \n",
    "\n",
    "- Use a stack to reverse queue values"
   ]
  },
  {
   "cell_type": "code",
   "execution_count": 14,
   "metadata": {},
   "outputs": [
    {
     "name": "stdout",
     "output_type": "stream",
     "text": [
      "Original Queue: [1, 2, 3, 4, 5]\n",
      "Reversed Queue: [5, 4, 3, 2, 1]\n"
     ]
    }
   ],
   "source": [
    "import java.util.*;\n",
    "\n",
    "public class ReverseQueueUsingStack {\n",
    "    public static <T> void reverseQueue(Queue<T> queue) {\n",
    "        Stack<T> stack = new Stack<>();\n",
    "\n",
    "        while (!queue.isEmpty()) {\n",
    "            stack.push(queue.poll());\n",
    "        }\n",
    "\n",
    "        while (!stack.isEmpty()) {\n",
    "            queue.offer(stack.pop());\n",
    "        }\n",
    "    }\n",
    "\n",
    "    public static void main(String[] args) {\n",
    "        Queue<Integer> queue = new LinkedList<>(Arrays.asList(1, 2, 3, 4, 5));\n",
    "\n",
    "        System.out.println(\"Original Queue: \" + queue);\n",
    "\n",
    "        reverseQueue(queue);\n",
    "\n",
    "        System.out.println(\"Reversed Queue: \" + queue);\n",
    "    }\n",
    "}\n",
    "ReverseQueueUsingStack.main(null);"
   ]
  },
  {
   "attachments": {},
   "cell_type": "markdown",
   "metadata": {},
   "source": [
    "## Hack 4 Explained\n",
    "- Define a generic method reverseQueue that takes a Queue queue as an argument and reverses the order of its elements using a Stack\n",
    "- The method creates a new Stack stack and uses a while loop to push all the elements of the Queue into the Stack, one by one\n",
    "- Then uses another while loop to pop each element from the Stack and enqueue it back into the Queue \n",
    "- Finally, the method returns the reversed Queue\n",
    "\n",
    "In the main method, we create an integer queue queue with some values and display its original order. We then call the reverseQueue method to reverse the order of the elements in the Queue and display the reversed order."
   ]
  }
 ],
 "metadata": {
  "kernelspec": {
   "display_name": "Java",
   "language": "java",
   "name": "java"
  },
  "language_info": {
   "codemirror_mode": "java",
   "file_extension": ".jshell",
   "mimetype": "text/x-java-source",
   "name": "java",
   "pygments_lexer": "java",
   "version": "11.0.16+8-post-Ubuntu-0ubuntu120.04"
  },
  "orig_nbformat": 4
 },
 "nbformat": 4,
 "nbformat_minor": 2
}
