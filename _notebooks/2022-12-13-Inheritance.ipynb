{
 "cells": [
  {
   "attachments": {},
   "cell_type": "markdown",
   "metadata": {},
   "source": [
    "# Inheritance Unit 9\n",
    "> Me attempting to do the work and be responsible\n",
    "\n",
    "- toc: true \n",
    "- badges: true\n",
    "- comments: true\n",
    "- categories: [jupyter]\n",
    "- image: images/chart-preview.png"
   ]
  },
  {
   "attachments": {},
   "cell_type": "markdown",
   "metadata": {},
   "source": [
    "## What is Inheritance?\n",
    "- Base class with subclasses extending base class\n",
    "- For example, you have cars...cars all have tires, wheel, engine, etc\n",
    "    - Some cars have special features in addition, those cars can be in the original class with the base features but then extend and have extra"
   ]
  },
  {
   "attachments": {},
   "cell_type": "markdown",
   "metadata": {},
   "source": [
    "## SuperClass\n",
    "- The base class is known as the SuperClass\n",
    "- Protected: an access modifier --> the attribute isn't affected by outside modifiers"
   ]
  },
  {
   "cell_type": "code",
   "execution_count": 2,
   "metadata": {
    "vscode": {
     "languageId": "java"
    }
   },
   "outputs": [
    {
     "name": "stdout",
     "output_type": "stream",
     "text": [
      "Go!\n",
      "Use the gear selector next to the wheel\n",
      "turning right...\n",
      "honking... eugh\n",
      "honking... brrr\n"
     ]
    }
   ],
   "source": [
    "public class Car {\n",
    "    protected String brandName;\n",
    "    protected double range;\n",
    "    protected double doorNumber;\n",
    "    protected double maxSpeed;\n",
    "    \n",
    "    // Constructor for the attributes present in the superclass\n",
    "    public Car(String brandName, double range, double doorNumber, double maxSpeed) {\n",
    "        this.brandName = brandName;\n",
    "        this.range = range;\n",
    "        this.doorNumber = doorNumber;\n",
    "        this.maxSpeed = maxSpeed;\n",
    "    }\n",
    "    \n",
    "    public void gas () {\n",
    "        System.out.println(\"Go!\");\n",
    "    }\n",
    "    \n",
    "    public void brake () {\n",
    "        System.out.println(\"Stop!\");\n",
    "    }\n",
    "    \n",
    "    public void gearShift () {\n",
    "        System.out.println(\"Use the stick\");\n",
    "    }\n",
    "    \n",
    "    public void steer () {\n",
    "        System.out.println(\"turning left...\");\n",
    "    }\n",
    "    \n",
    "    public void horn () {\n",
    "        System.out.print(\"honking... \");\n",
    "    }\n",
    "}\n",
    "\n",
    "public class TeslaModelS extends Car {\n",
    "    // Additional attribute not present in the superclass\n",
    "    protected String hornSound; \n",
    "    \n",
    "    // Constructor for Subclass\n",
    "    public TeslaModelS(String brandName, double range, double doorNumber, double maxSpeed, String hornSound) {\n",
    "        // We use the Superclass constructor for the shared attributes through the keyword \"super\"\n",
    "        super(brandName, range, doorNumber, maxSpeed);\n",
    "        // hornSound is not in the Superclass, so we add it separately in the constructor\n",
    "        this.hornSound = hornSound;\n",
    "    }\n",
    "    \n",
    "    // We use override to change the functionality in the subclass of an existing method in the superclass\n",
    "    @Override\n",
    "    public void gearShift () {\n",
    "        System.out.println(\"Use the gear selector next to the wheel\");\n",
    "    }\n",
    "    public void steer () {\n",
    "        System.out.println(\"turning right...\");\n",
    "    }\n",
    "    \n",
    "    // Here, we don't fully change the functionality of the existing horn method in the superclass\n",
    "    // Instead, we take all of the functionality of the superclass method, and then add on to it\n",
    "    public void horn () {\n",
    "        super.horn();\n",
    "        System.out.println(hornSound);\n",
    "    }\n",
    "    \n",
    "    public static void main(String[] args) {\n",
    "        // 5 argument constructor\n",
    "        TeslaModelS modelS = new TeslaModelS(\"Tesla\", 396, 4, 200, \"eugh\");\n",
    "        // Example of late binding\n",
    "        Car car = new TeslaModelS(\"Tesla\", 396, 4, 200, \"brrr\");\n",
    "        // We can still use the methods from the child class, even though we didn't mention them in the subclass!\n",
    "        modelS.gas();\n",
    "        // Using the overridden method\n",
    "        modelS.gearShift();\n",
    "        modelS.steer();\n",
    "        // Using the method we added on to\n",
    "        modelS.horn();\n",
    "        car.horn();\n",
    "    }\n",
    "    \n",
    "    \n",
    "}\n",
    "TeslaModelS.main(null);"
   ]
  },
  {
   "attachments": {},
   "cell_type": "markdown",
   "metadata": {},
   "source": [
    "## Writing Constructors for Subclasses\n",
    "- Subclass example in the previous code is the TeslaModelS class"
   ]
  },
  {
   "attachments": {},
   "cell_type": "markdown",
   "metadata": {},
   "source": [
    "## Hack 1"
   ]
  },
  {
   "cell_type": "code",
   "execution_count": 9,
   "metadata": {
    "vscode": {
     "languageId": "java"
    }
   },
   "outputs": [],
   "source": [
    "public class Animals{\n",
    "    protected String color;\n",
    "    protected double numberOfLegs;\n",
    "\n",
    "    public Animals(String color, double numberOfLegs){\n",
    "        this.color = color;\n",
    "        this.numberOfLegs = numberOfLegs;\n",
    "    }\n",
    "    \n",
    "}\n",
    "\n",
    "public class Wolf extends Animals {\n",
    "    protected String hasClaws; \n",
    "\n",
    "    public Wolf(String color, double numberOfLegs, String hasClaws){\n",
    "        super(color, numberOfLegs);\n",
    "        this.hasClaws = hasClaws;\n",
    "    }\n",
    "    public static void main(String[] args) {\n",
    "        Wolf Wolf = new Wolf(\"gray\", 4, \"true\");\n",
    "    } \n",
    "}\n",
    "\n",
    "Wolf.main(null);\n"
   ]
  },
  {
   "attachments": {},
   "cell_type": "markdown",
   "metadata": {},
   "source": [
    "## Overriding Methods\n",
    "- Pretty much allows you to change a previously defined method to better fit the subclass "
   ]
  },
  {
   "attachments": {},
   "cell_type": "markdown",
   "metadata": {},
   "source": [
    "## Hack 2"
   ]
  },
  {
   "cell_type": "code",
   "execution_count": 15,
   "metadata": {
    "vscode": {
     "languageId": "java"
    }
   },
   "outputs": [
    {
     "name": "stdout",
     "output_type": "stream",
     "text": [
      "The following displays information about a wolf species:\n",
      "This animal does have a tail.\n"
     ]
    }
   ],
   "source": [
    "public class Animals{\n",
    "    protected String color;\n",
    "    protected double numberOfLegs;\n",
    "\n",
    "    public Animals(String color, double numberOfLegs){\n",
    "        this.color = color;\n",
    "        this.numberOfLegs = numberOfLegs;\n",
    "    }\n",
    "    \n",
    "    public void tail(){\n",
    "        System.out.println(\"This animal does not have a tail.\");\n",
    "    }\n",
    "}\n",
    "\n",
    "public class Wolf extends Animals {\n",
    "    protected String hasClaws; \n",
    "\n",
    "    public Wolf(String color, double numberOfLegs, String hasClaws){\n",
    "        super(color, numberOfLegs);\n",
    "        this.hasClaws = hasClaws;\n",
    "    }\n",
    "    \n",
    "    @Override\n",
    "    public void tail() {\n",
    "        System.out.println(\"This animal does have a tail.\");\n",
    "    }\n",
    "\n",
    "    public static void main(String[] args) {\n",
    "        System.out.println(\"The following displays information about a wolf species:\");\n",
    "        Wolf Wolf = new Wolf(\"gray\", 4, \"true\");\n",
    "        Wolf.tail();\n",
    "    } \n",
    "}\n",
    "\n",
    "Wolf.main(null);"
   ]
  },
  {
   "attachments": {},
   "cell_type": "markdown",
   "metadata": {},
   "source": [
    "## Super Keyword\n",
    "- super keyword --> use constructors in the superclass and methods in the superclass in a child class\n",
    "- TeslaModelS --> super keyword can be found in constructor and the method horn\n",
    "    - When it says super(brandName, range, doorNumber, maxSpeed) in the constructor, super keyword is used to utilize super class constructor inside child class\n",
    "    - super.horn() calling horn() from parent class Car"
   ]
  },
  {
   "attachments": {},
   "cell_type": "markdown",
   "metadata": {},
   "source": [
    "## Creating References Using Inheritance Hierarchies\n",
    "- Type diagram: similar appearance to a family tree. A is superclass/head of the family. Descendants are subclasses\n",
    "    - public class A public class B extends A public class C extends B\n",
    "- A reference refers to an object of the class or object of an inherited class"
   ]
  },
  {
   "attachments": {},
   "cell_type": "markdown",
   "metadata": {},
   "source": [
    "## Polymorphism \n",
    "- means \"many forms\" --> one thing in many ways through inheritance \n",
    "- can have two different implementations through overriding methods\n",
    "    - This is known as Runtime Polymorphism\n",
    "- Method overloading: two methods with same name but different arguments and functionalities\n",
    "    - Compile Time Polymorphism or Static Polymorphism\n",
    "- Early binding: when compiler decides which method should be called\n",
    "- Late binding: when method is decided at runtime"
   ]
  },
  {
   "attachments": {},
   "cell_type": "markdown",
   "metadata": {},
   "source": [
    "## Hack 3"
   ]
  },
  {
   "cell_type": "code",
   "execution_count": 19,
   "metadata": {
    "vscode": {
     "languageId": "java"
    }
   },
   "outputs": [
    {
     "name": "stdout",
     "output_type": "stream",
     "text": [
      "The following displays information about a wolf species:\n",
      "This animal does have a tail.\n",
      "This animal's average lifespan ranges from 14 to 16 years of age.\n",
      "The following displays information about a fish species:\n",
      "This animal does have a tail.\n",
      "This animal's average lifespan ranges from 6 to 14 years of age.\n"
     ]
    }
   ],
   "source": [
    "public class Animals{\n",
    "    protected String color;\n",
    "    protected double numberOfLegs;\n",
    "\n",
    "    public Animals(String color, double numberOfLegs){\n",
    "        this.color = color;\n",
    "        this.numberOfLegs = numberOfLegs;\n",
    "    }\n",
    "    \n",
    "    public void tail(){\n",
    "        System.out.println(\"This animal does not have a tail.\");\n",
    "    }\n",
    "    public void lifeSpan(){\n",
    "        System.out.println(\"Lifespan for this animal is unknown.\");\n",
    "    }\n",
    "}\n",
    "\n",
    "public class Wolf extends Animals {\n",
    "    protected String hasClaws; \n",
    "\n",
    "    public Wolf(String color, double numberOfLegs, String hasClaws){\n",
    "        super(color, numberOfLegs);\n",
    "        this.hasClaws = hasClaws;\n",
    "    }\n",
    "    \n",
    "    @Override\n",
    "    public void tail() {\n",
    "        System.out.println(\"This animal does have a tail.\");\n",
    "    }\n",
    "\n",
    "    @Override\n",
    "    public void lifeSpan() {\n",
    "        System.out.println(\"This animal's average lifespan ranges from 14 to 16 years of age.\");\n",
    "    }\n",
    "\n",
    "    public static void main(String[] args) {\n",
    "        System.out.println(\"The following displays information about a wolf species:\");\n",
    "        Wolf Wolf = new Wolf(\"gray\", 4, \"true\");\n",
    "        Wolf.tail();\n",
    "        Wolf.lifeSpan();\n",
    "    } \n",
    "}\n",
    "\n",
    "public class Fish extends Animals {\n",
    "    public Fish(String color, double numberOfLegs){\n",
    "        super(color, numberOfLegs);    \n",
    "    }\n",
    "    \n",
    "    @Override\n",
    "    public void tail() {\n",
    "        System.out.println(\"This animal does have a tail.\");\n",
    "    }\n",
    "    \n",
    "    public void lifeSpan(int a, int b) {\n",
    "        System.out.println(\"This animal's average lifespan ranges from \" + a + \" to \" + b + \" years of age.\");\n",
    "    }\n",
    "    \n",
    "    public static void main(String[] args) {\n",
    "        System.out.println(\"The following displays information about a fish species:\");\n",
    "        Fish Fish = new Fish(\"silver\", 0);\n",
    "        Fish.tail();\n",
    "        Fish.lifeSpan(6, 14);\n",
    "    } \n",
    "    \n",
    "}\n",
    "\n",
    "Wolf.main(null);\n",
    "Fish.main(null);"
   ]
  },
  {
   "attachments": {},
   "cell_type": "markdown",
   "metadata": {},
   "source": [
    "## Object Superclass\n",
    "- Important things to know\n",
    "    - Object class is superclass of all other classes in java\n",
    "    - Object is part of the java.lang package --> known for imports\n",
    "    - Important Object class methods include: boolean equals(Object x) & String toString()\n",
    "    - Object class' subclass override the equals and toStrong methods\n",
    "- toString Method\n",
    "    - Prints out the attributes of an object\n",
    "    - Converts string object into a string\n",
    "- equals Method\n",
    "    - Compares two strings\n",
    "    - Returns a boolean value of true if equal...otherwise returns false"
   ]
  }
 ],
 "metadata": {
  "kernelspec": {
   "display_name": "Java",
   "language": "java",
   "name": "java"
  },
  "language_info": {
   "codemirror_mode": "java",
   "file_extension": ".jshell",
   "mimetype": "text/x-java-source",
   "name": "Java",
   "pygments_lexer": "java",
   "version": "11.0.16+8-post-Ubuntu-0ubuntu120.04"
  },
  "orig_nbformat": 4,
  "vscode": {
   "interpreter": {
    "hash": "916dbcbb3f70747c44a77c7bcd40155683ae19c65e1c03b4aa3499c5328201f1"
   }
  }
 },
 "nbformat": 4,
 "nbformat_minor": 2
}
