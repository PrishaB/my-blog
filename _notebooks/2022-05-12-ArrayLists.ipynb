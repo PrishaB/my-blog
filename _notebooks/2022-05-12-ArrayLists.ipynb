{
 "cells": [
  {
   "cell_type": "markdown",
   "metadata": {},
   "source": [
    "# Array List Week 7 \n",
    "> Me attempting to do the work and be responsible\n",
    "\n",
    "- toc: true \n",
    "- badges: true\n",
    "- comments: true\n",
    "- categories: [jupyter]\n",
    "- image: images/chart-preview.png"
   ]
  },
  {
   "cell_type": "markdown",
   "metadata": {},
   "source": [
    "## Hack Number 1\n",
    "Experimenting with arrayList"
   ]
  },
  {
   "cell_type": "code",
   "execution_count": 1,
   "metadata": {
    "vscode": {
     "languageId": "java"
    }
   },
   "outputs": [
    {
     "name": "stdout",
     "output_type": "stream",
     "text": [
      "There are 6 characters still alive\n",
      "There are now 5 characters still alive\n",
      "There are now 6 characters in the game\n"
     ]
    }
   ],
   "source": [
    "// HACK!!!!\n",
    "// Create an arrayList and use one of the cool methods for it\n",
    "\n",
    "import java.util.ArrayList; \n",
    "\n",
    "public class hack1 {\n",
    "    public static void main (String[] args) {\n",
    "        ArrayList<String> omoriChara = new ArrayList<String>(Arrays.asList(\"Mari\", \"Hero\", \"Aubrey\", \"Basil\", \"Kel\", \"Sunny\"));\n",
    "        System.out.println(\"There are \" + omoriChara.size() + \" characters still alive\");\n",
    "\n",
    "        omoriChara.remove(\"Mari\");\n",
    "        System.out.println(\"There are now \" + omoriChara.size() + \" characters still alive\");\n",
    "        \n",
    "        omoriChara.add(\"Something\");\n",
    "        System.out.println(\"There are now \" + omoriChara.size() + \" characters in the game\");\n",
    "    }\n",
    "}\n",
    "\n",
    "hack1.main(null);"
   ]
  },
  {
   "cell_type": "markdown",
   "metadata": {},
   "source": [
    "## Hack Number 2\n",
    "Removing red terms"
   ]
  },
  {
   "cell_type": "code",
   "execution_count": 2,
   "metadata": {
    "vscode": {
     "languageId": "java"
    }
   },
   "outputs": [
    {
     "name": "stdout",
     "output_type": "stream",
     "text": [
      "[green box, blue water]\n"
     ]
    }
   ],
   "source": [
    "import java.util.ArrayList;\n",
    "\n",
    "ArrayList<String> color = new ArrayList<String>(); \n",
    "color.add(\"red apple\");\n",
    "color.add(\"green box\");\n",
    "color.add(\"blue water\");\n",
    "color.add(\"red panda\");\n",
    "\n",
    "for(int i = color.size() - 1; i >= 0; i--) { \n",
    "    if(color.get(i).contains(\"red\")) { color.remove(i);}\n",
    "} \n",
    "System.out.println(color);\n",
    "\n",
    "\n",
    "/*/ \n",
    "using \n",
    "\n",
    "if(color.get(i).contains(\"red\"))\n",
    "\n",
    "iterate through the arraylist and remove all elements that contain the word red in them\n",
    "/*/"
   ]
  },
  {
   "cell_type": "markdown",
   "metadata": {},
   "source": [
    "## Hack Number 3\n",
    "Finding the sum"
   ]
  },
  {
   "cell_type": "code",
   "execution_count": 3,
   "metadata": {
    "vscode": {
     "languageId": "java"
    }
   },
   "outputs": [
    {
     "name": "stdout",
     "output_type": "stream",
     "text": [
      "9"
     ]
    }
   ],
   "source": [
    "// find the sum of the elements in the arraylist\n",
    "\n",
    "ArrayList<Integer> num = new ArrayList<Integer>(); \n",
    "\n",
    "num.add(5);\n",
    "num.add(1);\n",
    "num.add(3);\n",
    "\n",
    "int sum = 0; \n",
    "\n",
    "for (int number: num) { \n",
    "    sum += number; \n",
    "} \n",
    "\n",
    "System.out.print(sum);"
   ]
  },
  {
   "cell_type": "markdown",
   "metadata": {},
   "source": [
    "## Quiz\n",
    "I took it like twice but I forgot to screenshot it so, I really hope you accept my word ;-;"
   ]
  }
 ],
 "metadata": {
  "kernelspec": {
   "display_name": "Java",
   "language": "java",
   "name": "java"
  },
  "language_info": {
   "codemirror_mode": "java",
   "file_extension": ".jshell",
   "mimetype": "text/x-java-source",
   "name": "Java",
   "pygments_lexer": "java",
   "version": "11.0.16+8-post-Ubuntu-0ubuntu120.04"
  },
  "orig_nbformat": 4
 },
 "nbformat": 4,
 "nbformat_minor": 2
}
