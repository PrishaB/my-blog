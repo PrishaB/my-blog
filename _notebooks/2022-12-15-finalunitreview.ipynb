{
 "cells": [
  {
   "attachments": {},
   "cell_type": "markdown",
   "metadata": {},
   "source": [
    "# 2D Array Week 8 \n",
    "> Me attempting to do the work and be responsible\n",
    "\n",
    "- toc: true \n",
    "- badges: true\n",
    "- comments: true\n",
    "- categories: [jupyter]\n",
    "- image: images/chart-preview.png"
   ]
  },
  {
   "attachments": {},
   "cell_type": "markdown",
   "metadata": {},
   "source": [
    "## ArrayList Notes"
   ]
  },
  {
   "attachments": {},
   "cell_type": "markdown",
   "metadata": {},
   "source": [
    "### 7.1 Intro to ArrayLists\n",
    "- Arrays: Static, Static (fixed size), Fundamental java feature, An object with no methods, Not as flexible, Can store more primitive data, Slightly slower than Arrays\t\n",
    "- ArrayLists: Dynamic (can change size) Part of a framework, A class with many methods, Designed to be more flexible, Store object references, Can only be used with an import statement\n",
    "\n",
    "Primitive Data Types:\n",
    "- boolean\n",
    "- char\n",
    "- double\n",
    "- int\n",
    "\n",
    "Wrapper Class Data Types (Store the primitive values as objects)\n",
    "- Boolean\n",
    "- Character\n",
    "- Double\n",
    "- Integer"
   ]
  },
  {
   "attachments": {},
   "cell_type": "markdown",
   "metadata": {},
   "source": [
    "### 7.2 ArrayList Methods\n",
    "\n",
    "size();   --> Returns the number of elements in the list\n",
    "add(obj);  --> Adds element at the end\n",
    "add(index, object);   --> Adds element at specific index\n",
    "remove(index);   --> Removes element from specific index\n",
    "set(index, object);   --> Replaces element at index with new object\n",
    "get(index);   --> Returns element at index"
   ]
  },
  {
   "attachments": {},
   "cell_type": "markdown",
   "metadata": {},
   "source": [
    "### 7.3 Traversing ArrayLists\n",
    "\n",
    "- 2 ways --> for loops and enhanced for loops\n",
    "- use get() instead of bracket notation for getting an element of an arraylist\n",
    "- use size() to find number of elements in arraylist instead of using .length"
   ]
  },
  {
   "attachments": {},
   "cell_type": "markdown",
   "metadata": {},
   "source": [
    "### 7.4 Developing Algorithms Using ArrayLists\n",
    "\n",
    "They can...\n",
    "- Modify array values\n",
    "- Find the max value\n",
    "- Find the min value"
   ]
  },
  {
   "attachments": {},
   "cell_type": "markdown",
   "metadata": {},
   "source": [
    "### 7.5 Searching\n",
    "\n",
    "Important to remember...\n",
    "- When looking at int values, the == operator should be used.\n",
    "- When searching for a double value, we need to make sure the value is close enough by doing some math.\n",
    "- Object instances should always use the .equals(otherThing) method to check for a match."
   ]
  },
  {
   "attachments": {},
   "cell_type": "markdown",
   "metadata": {},
   "source": [
    "### 7.6 Sorting\n",
    "\n",
    "- Selection sort identifies either the maximum or minimum of the compared values and iterates over the structure checking if the item stored at the index matches the condition, if so, it will swap the value stored at the index and continue.\n",
    "- The insertion sort is characterized by building a sorted structure as it proceeds. It inserts each value it finds at the appropriate location in the data structure. This is often accomplished by using a while loop as the inner loop."
   ]
  },
  {
   "attachments": {},
   "cell_type": "markdown",
   "metadata": {},
   "source": [
    "### 7.7 Ethical Issues around Data Collection\n",
    "\n",
    "- More data --> more to protect --> more likely leak will happen\n",
    "- Delete things you don't need anymore\n",
    "- Ensure important data is encrypted"
   ]
  },
  {
   "attachments": {},
   "cell_type": "markdown",
   "metadata": {},
   "source": [
    "## 2D Array Lesson Notes"
   ]
  },
  {
   "attachments": {},
   "cell_type": "markdown",
   "metadata": {},
   "source": [
    "### 2D Array Vocab\n",
    "   **Array** = a data structure used to implement a collection (list) of primitive or object reference data\n",
    "   **Element** = a single value in the array\n",
    "   **Index** = the position of the element in the array (starts from 0)\n",
    "   **Array Length** = the number of elements in the array\n",
    "       - Is public, so can be accessed in any class\n",
    "       - Is also final, so can’t change it after array has been created"
   ]
  },
  {
   "attachments": {},
   "cell_type": "markdown",
   "metadata": {},
   "source": [
    "### The Basics\n",
    "   A 2D array is an array of arrays and can be a better way to store data\n",
    "   Declaring a 2D array:\n",
    "       - ``DataType[][] nameOf2DArray``\n",
    "   Initializing a 2D array\n",
    "       - ``DataType[][] nameOf2DArray = new DataType[r][c];``\n",
    "            - r = # of rows \n",
    "                - The # of arrays in the array\n",
    "                - r = list.length \n",
    "                    - c = # of columns\n",
    "                - The # of elements in the inner arrays\n",
    "                - ``c = list[0].length``"
   ]
  },
  {
   "attachments": {},
   "cell_type": "markdown",
   "metadata": {},
   "source": [
    "### Example of Initializing Sample Array"
   ]
  },
  {
   "cell_type": "code",
   "execution_count": 1,
   "metadata": {
    "vscode": {
     "languageId": "java"
    }
   },
   "outputs": [
    {
     "name": "stdout",
     "output_type": "stream",
     "text": [
      "arr[0][0] = 1\n",
      "arr[1][2] = 6\n",
      "arr[2][1] = 8\n"
     ]
    }
   ],
   "source": [
    "public class Test {\n",
    "\n",
    "    public static void main(String[] args) {\n",
    " \n",
    "       int[][] arr = {\n",
    "          { 1, 2, 3 },\n",
    "          { 4, 5, 6 },\n",
    "          { 7, 8, 9 }\n",
    "       };\n",
    " \n",
    "       System.out.println(\"arr[0][0] = \" + arr[0][0]);\n",
    "       System.out.println(\"arr[1][2] = \" + arr[1][2]);\n",
    "       System.out.println(\"arr[2][1] = \" + arr[2][1]);\n",
    "       \n",
    "    }\n",
    " \n",
    " }\n",
    " Test.main(null);"
   ]
  },
  {
   "attachments": {},
   "cell_type": "markdown",
   "metadata": {},
   "source": [
    "- ``list[list.length - 1][list[0].length - 1]``\n",
    "- Updating an element: ``list[r][c] = value;``"
   ]
  },
  {
   "attachments": {},
   "cell_type": "markdown",
   "metadata": {},
   "source": [
    "### Nested Loops:\n",
    "\n",
    "- You can use Nested Loops to traverse 2D Arrays\n",
    "    - For ex: to print out an entire array in order, you needt o use these"
   ]
  },
  {
   "cell_type": "code",
   "execution_count": 2,
   "metadata": {
    "vscode": {
     "languageId": "java"
    }
   },
   "outputs": [
    {
     "name": "stdout",
     "output_type": "stream",
     "text": [
      "a f g l  \n",
      "b e h k  \n",
      "c d i j  \n"
     ]
    }
   ],
   "source": [
    "public class Test {\n",
    "\n",
    "    public static void main(String[] args) {\n",
    " \n",
    "      String[][] arr = {\n",
    "         { \"a\", \"f\", \"g\", \"l\" },\n",
    "         { \"b\", \"e\", \"h\", \"k\" },\n",
    "         { \"c\", \"d\", \"i\", \"j\" }\n",
    "      };\n",
    " \n",
    "      for (int row = 0; row < 3; row++) {\n",
    "         for (int col = 0; col < 4; col++) {\n",
    "            System.out.print(arr[row][col] + \" \");\n",
    "         }\n",
    "        System.out.println(\" \");\n",
    "      }\n",
    "       \n",
    "    }\n",
    " \n",
    " }\n",
    " Test.main(null);"
   ]
  },
  {
   "attachments": {},
   "cell_type": "markdown",
   "metadata": {},
   "source": [
    "- Make sure your columns for loop is always inside your rows for loop!\n",
    "    - Unless you want it printed thte other way of course\n",
    "- Print spaces and lines in between to make a neater matrix\n",
    "\n",
    "### Searching for a Value in a 2D Array:\n",
    "\n",
    "- Here's a quick example to illustrate:"
   ]
  },
  {
   "cell_type": "code",
   "execution_count": null,
   "metadata": {
    "vscode": {
     "languageId": "java"
    }
   },
   "outputs": [],
   "source": [
    "public class Test {\n",
    "\n",
    "    public static void main(String[] args) {\n",
    "  \n",
    "        String[][] arr = {\n",
    "            { \"Atlanta\", \"Baltimore\", \"Chicago\" },\n",
    "            { \"Australia\", \"Boston\", \"Cincinnati\" },\n",
    "            { \"Austin\", \"Beaumont\", \"Columbus\" }\n",
    "        };\n",
    "\n",
    "        String match = \"\";\n",
    "        String name = \"Boston\";\n",
    "        for (String[] row : arr) {\n",
    "            for (String item : row) {\n",
    "                if (item.equals(name)) {\n",
    "                    match = name;\n",
    "                }\n",
    "            }\n",
    "        }\n",
    "\n",
    "        if (match.length() == 0) {\n",
    "            System.out.println(\"No Match!\");\n",
    "        } else {\n",
    "            System.out.println(name);\n",
    "        }\n",
    "        \n",
    "    }\n",
    " \n",
    " }\n",
    "Test.main(null);"
   ]
  },
  {
   "attachments": {},
   "cell_type": "markdown",
   "metadata": {},
   "source": [
    "## Inheritance Lesson Notes"
   ]
  },
  {
   "attachments": {},
   "cell_type": "markdown",
   "metadata": {},
   "source": [
    "### What is Inheritance?\n",
    "- Base class with subclasses extending base class\n",
    "- For example, you have cars...cars all have tires, wheel, engine, etc\n",
    "    - Some cars have special features in addition, those cars can be in the original class with the base features but then extend and have extra"
   ]
  },
  {
   "attachments": {},
   "cell_type": "markdown",
   "metadata": {},
   "source": [
    "## SuperClass\n",
    "- The base class is known as the SuperClass\n",
    "- Protected: an access modifier --> the attribute isn't affected by outside modifiers"
   ]
  },
  {
   "cell_type": "code",
   "execution_count": 3,
   "metadata": {
    "vscode": {
     "languageId": "java"
    }
   },
   "outputs": [
    {
     "name": "stdout",
     "output_type": "stream",
     "text": [
      "Go!\n",
      "Use the gear selector next to the wheel\n",
      "turning right...\n",
      "honking... eugh\n",
      "honking... brrr\n"
     ]
    }
   ],
   "source": [
    "public class Car {\n",
    "    protected String brandName;\n",
    "    protected double range;\n",
    "    protected double doorNumber;\n",
    "    protected double maxSpeed;\n",
    "    \n",
    "    // Constructor for the attributes present in the superclass\n",
    "    public Car(String brandName, double range, double doorNumber, double maxSpeed) {\n",
    "        this.brandName = brandName;\n",
    "        this.range = range;\n",
    "        this.doorNumber = doorNumber;\n",
    "        this.maxSpeed = maxSpeed;\n",
    "    }\n",
    "    \n",
    "    public void gas () {\n",
    "        System.out.println(\"Go!\");\n",
    "    }\n",
    "    \n",
    "    public void brake () {\n",
    "        System.out.println(\"Stop!\");\n",
    "    }\n",
    "    \n",
    "    public void gearShift () {\n",
    "        System.out.println(\"Use the stick\");\n",
    "    }\n",
    "    \n",
    "    public void steer () {\n",
    "        System.out.println(\"turning left...\");\n",
    "    }\n",
    "    \n",
    "    public void horn () {\n",
    "        System.out.print(\"honking... \");\n",
    "    }\n",
    "}\n",
    "\n",
    "public class TeslaModelS extends Car {\n",
    "    // Additional attribute not present in the superclass\n",
    "    protected String hornSound; \n",
    "    \n",
    "    // Constructor for Subclass\n",
    "    public TeslaModelS(String brandName, double range, double doorNumber, double maxSpeed, String hornSound) {\n",
    "        // We use the Superclass constructor for the shared attributes through the keyword \"super\"\n",
    "        super(brandName, range, doorNumber, maxSpeed);\n",
    "        // hornSound is not in the Superclass, so we add it separately in the constructor\n",
    "        this.hornSound = hornSound;\n",
    "    }\n",
    "    \n",
    "    // We use override to change the functionality in the subclass of an existing method in the superclass\n",
    "    @Override\n",
    "    public void gearShift () {\n",
    "        System.out.println(\"Use the gear selector next to the wheel\");\n",
    "    }\n",
    "    public void steer () {\n",
    "        System.out.println(\"turning right...\");\n",
    "    }\n",
    "    \n",
    "    // Here, we don't fully change the functionality of the existing horn method in the superclass\n",
    "    // Instead, we take all of the functionality of the superclass method, and then add on to it\n",
    "    public void horn () {\n",
    "        super.horn();\n",
    "        System.out.println(hornSound);\n",
    "    }\n",
    "    \n",
    "    public static void main(String[] args) {\n",
    "        // 5 argument constructor\n",
    "        TeslaModelS modelS = new TeslaModelS(\"Tesla\", 396, 4, 200, \"eugh\");\n",
    "        // Example of late binding\n",
    "        Car car = new TeslaModelS(\"Tesla\", 396, 4, 200, \"brrr\");\n",
    "        // We can still use the methods from the child class, even though we didn't mention them in the subclass!\n",
    "        modelS.gas();\n",
    "        // Using the overridden method\n",
    "        modelS.gearShift();\n",
    "        modelS.steer();\n",
    "        // Using the method we added on to\n",
    "        modelS.horn();\n",
    "        car.horn();\n",
    "    }\n",
    "    \n",
    "    \n",
    "}\n",
    "TeslaModelS.main(null);"
   ]
  },
  {
   "attachments": {},
   "cell_type": "markdown",
   "metadata": {},
   "source": [
    "### Writing Constructors for Subclasses\n",
    "- Subclass example in the previous code is the TeslaModelS class"
   ]
  },
  {
   "attachments": {},
   "cell_type": "markdown",
   "metadata": {},
   "source": [
    "### Overriding Methods\n",
    "- Pretty much allows you to change a previously defined method to better fit the subclass "
   ]
  },
  {
   "attachments": {},
   "cell_type": "markdown",
   "metadata": {},
   "source": [
    "### Super Keyword\n",
    "- super keyword --> use constructors in the superclass and methods in the superclass in a child class\n",
    "- TeslaModelS --> super keyword can be found in constructor and the method horn\n",
    "    - When it says super(brandName, range, doorNumber, maxSpeed) in the constructor, super keyword is used to utilize super class constructor inside child class\n",
    "    - super.horn() calling horn() from parent class Car\n",
    "\n",
    "### Creating References Using Inheritance Hierarchies\n",
    "- Type diagram: similar appearance to a family tree. A is superclass/head of the family. Descendants are subclasses\n",
    "    - public class A public class B extends A public class C extends B\n",
    "- A reference refers to an object of the class or object of an inherited class"
   ]
  },
  {
   "attachments": {},
   "cell_type": "markdown",
   "metadata": {},
   "source": [
    "### Polymorphism \n",
    "- means \"many forms\" --> one thing in many ways through inheritance \n",
    "- can have two different implementations through overriding methods\n",
    "    - This is known as Runtime Polymorphism\n",
    "- Method overloading: two methods with same name but different arguments and functionalities\n",
    "    - Compile Time Polymorphism or Static Polymorphism\n",
    "- Early binding: when compiler decides which method should be called\n",
    "- Late binding: when method is decided at runtime"
   ]
  },
  {
   "attachments": {},
   "cell_type": "markdown",
   "metadata": {},
   "source": [
    "### Object Superclass\n",
    "- Important things to know\n",
    "    - Object class is superclass of all other classes in java\n",
    "    - Object is part of the java.lang package --> known for imports\n",
    "    - Important Object class methods include: boolean equals(Object x) & String toString()\n",
    "    - Object class' subclass override the equals and toStrong methods\n",
    "- toString Method\n",
    "    - Prints out the attributes of an object\n",
    "    - Converts string object into a string\n",
    "- equals Method\n",
    "    - Compares two strings\n",
    "    - Returns a boolean value of true if equal...otherwise returns false"
   ]
  },
  {
   "attachments": {},
   "cell_type": "markdown",
   "metadata": {},
   "source": [
    "## Recursion Lesson Notes"
   ]
  },
  {
   "attachments": {},
   "cell_type": "markdown",
   "metadata": {},
   "source": [
    "### 10.1 Recursion\n",
    "- Recursive method is a method that calls itself\n",
    "- Two parts to the method:\n",
    "    - base case\n",
    "    - recursive case\n",
    "- Base case reached where recursion stops and value is returned\n",
    "    - write first to avoid infinite recursion\n",
    "- Recursive calls == part of a method\n",
    "- Recursive methods have a call stack that keeps track of all times recursive function is called\n",
    "- Recursions similar to loops --> recursion can be written as loops\n",
    "- Iteration vs Recursion\n",
    "    - Iteration used when a set of instructions are executed repeatedly until the condition becomes false\n",
    "    - Recursion used when solution to a bigger problem can be expressed in terms of smaller problems\n",
    "    - Main difference: recursion uses funtion calls...iteration uses for and while loops"
   ]
  },
  {
   "attachments": {},
   "cell_type": "markdown",
   "metadata": {},
   "source": [
    "### 10.2 Binary Search, Linear Recursion, Selection Sort, and Merge Sort\n",
    "- Binary search algorithm:\n",
    "    - Data must be sorted\n",
    "    - Keep halving array until you find value\n",
    "    - more efficient than linear search\n",
    "\n",
    "- Linear Recursion:\n",
    "    - Function that only makes a single call to istelf each time it's run\n",
    "\n",
    "- Selection Sort:\n",
    "    - Repeatedly find the minimum element from the unsorted part and putting it at the end of the sorted\n",
    "\n",
    "- Merge Sort:\n",
    "    - Can be used to sort ArrayList structures\n",
    "    - Use divide and conquer algorithm\n",
    "    - divides input array into two halves, call itself for two halves, and then merges the two sorted halves\n",
    "    - merge() function is used for merging two halves"
   ]
  }
 ],
 "metadata": {
  "kernelspec": {
   "display_name": "Java",
   "language": "java",
   "name": "java"
  },
  "language_info": {
   "codemirror_mode": "java",
   "file_extension": ".jshell",
   "mimetype": "text/x-java-source",
   "name": "Java",
   "pygments_lexer": "java",
   "version": "11.0.16+8-post-Ubuntu-0ubuntu120.04"
  },
  "orig_nbformat": 4
 },
 "nbformat": 4,
 "nbformat_minor": 2
}
