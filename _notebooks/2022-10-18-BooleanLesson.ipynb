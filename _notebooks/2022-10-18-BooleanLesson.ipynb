{
 "cells": [
  {
   "cell_type": "markdown",
   "metadata": {},
   "source": [
    "# Boolean and IF Statements Lesson Hacks\n",
    "> My attempt at this unit hw\n",
    "\n",
    "- toc: true \n",
    "- badges: true\n",
    "- comments: true\n",
    "- categories: [jupyter]\n",
    "- image: "
   ]
  },
  {
   "cell_type": "markdown",
   "metadata": {},
   "source": [
    "## 2009 FRQ 3B"
   ]
  },
  {
   "cell_type": "code",
   "execution_count": 1,
   "metadata": {},
   "outputs": [],
   "source": [
    "public int getChargeStartTime(int chargeTime)\n",
    "{\n",
    "  int cheapestStartHour = 0;\n",
    "  \n",
    "  for(int startHour = 1; startHour < rateTable.length; startHour++)\n",
    "    if(getChargingCost(startHour, chargeTime) <\n",
    "          getChargingCost(cheapestStartHour, chargeTime))\n",
    "      cheapestStartHour = startHour;\n",
    "  \n",
    "  return cheapestStartHour;\n",
    "}"
   ]
  },
  {
   "cell_type": "markdown",
   "metadata": {},
   "source": [
    "## 2017 FRQ 1b"
   ]
  },
  {
   "cell_type": "code",
   "execution_count": 3,
   "metadata": {},
   "outputs": [
    {
     "name": "stdout",
     "output_type": "stream",
     "text": [
      "true\n",
      "false\n"
     ]
    }
   ],
   "source": [
    "import java.util.*;\n",
    "\n",
    "public class Digits {\n",
    "    private ArrayList<Integer> digitList;\n",
    "\n",
    "    public Digits(int num) {\n",
    "        digitList = new ArrayList<Integer>();\n",
    "\n",
    "        if (num==0){\n",
    "            digitList.add(new Integer(0));\n",
    "        }\n",
    "        while (num > 0) {\n",
    "            digitList.add(0, new Integer(num % 10));\n",
    "            num /= 10;\n",
    "        }\n",
    "\n",
    "    }\n",
    "\n",
    "    public boolean isStrictlyIncreasing() {\n",
    "        boolean increase = true;\n",
    "\n",
    "        for (int i = 0; i < digitList.size() - 1; i++) {\n",
    "            if (digitList.get(i).intValue() >= digitList.get(i + 1).intValue()) {\n",
    "                increase = false;\n",
    "                return increase;\n",
    "            }\n",
    "        }\n",
    "        return increase;\n",
    "    }\n",
    "}\n",
    "\n",
    "System.out.println(new Digits(1356).isStrictlyIncreasing());\n",
    "System.out.println(new Digits(1536).isStrictlyIncreasing());"
   ]
  },
  {
   "cell_type": "markdown",
   "metadata": {},
   "source": [
    "## 2019 FRQ 3B"
   ]
  },
  {
   "cell_type": "code",
   "execution_count": 4,
   "metadata": {},
   "outputs": [],
   "source": [
    "public boolean isBalanced(ArrayList<String> delimiters) {\n",
    "\tint openDels = 0;\n",
    "\tint closeDels = 0;\n",
    "\t\n",
    "\tfor (String del : delimiters) {\n",
    "\t\tif (del.equals(openDel)) {\n",
    "\t\t\topenDels++;\n",
    "\t\t} else {\n",
    "\t\t\tcloseDels++;\n",
    "\t\t}\n",
    "\t\t\n",
    "\t\tif (closeDels > openDels) {\n",
    "\t\t\treturn false;\n",
    "\t\t}\n",
    "\t}\n",
    "\t\n",
    "\treturn openDels == closeDels;\n",
    "}"
   ]
  }
 ],
 "metadata": {
  "kernelspec": {
   "display_name": "Java",
   "language": "java",
   "name": "java"
  },
  "language_info": {
   "codemirror_mode": "java",
   "file_extension": ".jshell",
   "mimetype": "text/x-java-source",
   "name": "java",
   "pygments_lexer": "java",
   "version": "11.0.16+8-post-Ubuntu-0ubuntu120.04"
  },
  "orig_nbformat": 4,
  "vscode": {
   "interpreter": {
    "hash": "916dbcbb3f70747c44a77c7bcd40155683ae19c65e1c03b4aa3499c5328201f1"
   }
  }
 },
 "nbformat": 4,
 "nbformat_minor": 2
}
