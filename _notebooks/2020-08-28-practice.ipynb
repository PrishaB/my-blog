{
 "cells": [
  {
   "cell_type": "markdown",
   "metadata": {},
   "source": [
    "#Hacks Attempts\n",
    "> Me attempting the hacks ;)\n",
    "\n",
    "- toc: true \n",
    "- badges: true\n",
    "- comments: true\n",
    "- categories: [jupyter]\n",
    "- image: images/chart-preview.png"
   ]
  },
  {
   "cell_type": "code",
   "execution_count": null,
   "metadata": {},
   "outputs": [],
   "source": [
    "public class GradeCalculator {\n",
    "    // introduction to Double wrapper class (object)\n",
    "    ArrayList<Double> grades;   // similar to Python list\n",
    "\n",
    "    // constructor, initializes ArrayList and call enterGrades method\n",
    "    public GradeCalculator() {\n",
    "        this.grades = new ArrayList<>();\n",
    "        this.enterGrades();\n",
    "    }\n",
    "\n",
    "    // double requires test for zero versus threshold, DO NOT compare to Zero\n",
    "    private boolean isZero(double value){\n",
    "        double threshold = 0.001;\n",
    "        return value >= -threshold && value <= threshold;\n",
    "    }\n",
    "\n",
    "\n",
    "    // enterGrades input method using scanner\n",
    "    private void enterGrades() {\n",
    "        Scanner input;\n",
    "\n",
    "        while (true) {\n",
    "            input = new Scanner(System.in);\n",
    "            System.out.print(\"Enter a double, 0 to exit: \");\n",
    "            try {\n",
    "                double sampleInputDouble = input.nextDouble();\n",
    "                System.out.println(sampleInputDouble);\n",
    "                if (isZero(sampleInputDouble)) break;       // exit loop on isZero\n",
    "                else this.grades.add(sampleInputDouble);    // adding to object, ArrayList grades\n",
    "            } catch (Exception e) {  // if not a number\n",
    "                System.out.println(\"Not an double (form like 9.99), \" + e);\n",
    "            }\n",
    "            input.close();\n",
    "        }\n",
    "    }\n",
    "\n",
    "    // average calculation \n",
    "    public double average() {\n",
    "        double total = 0;   // running total\n",
    "        for (double num : this.grades) {    // enhanced for loop\n",
    "            total += num;   // shortcut add and assign operator\n",
    "        }\n",
    "        return (total / this.grades.size());  // double math, ArrayList grades object maintains its size\n",
    "    }\n",
    "\n",
    "    // static main method, used as driver and tester\n",
    "    public static void main(String[] args) {\n",
    "        GradeCalculator grades = new GradeCalculator(); // calls constructor, creates object, which calls enterGrades\n",
    "        System.out.println(\"Average: \" + String.format(\"%.2f\", grades.average()));  // format used to standardize to two decimal points\n",
    "    }\n",
    "}\n",
    "// IJava activation\n",
    "GradeCalculator.main(null);"
   ]
  }
 ],
 "metadata": {
  "kernelspec": {
   "display_name": "Java",
   "language": "java",
   "name": "java"
  },
  "language_info": {
   "name": "java"
  },
  "orig_nbformat": 4
 },
 "nbformat": 4,
 "nbformat_minor": 2
}
