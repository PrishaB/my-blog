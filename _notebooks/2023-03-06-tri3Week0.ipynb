{
 "cells": [
  {
   "cell_type": "markdown",
   "metadata": {},
   "source": [
    "# Blogging Upload Feature on Website\n",
    "> Explaining Code + Problems I had\n",
    "\n",
    "- toc: true \n",
    "- badges: true\n",
    "- comments: true\n",
    "- categories: [jupyter]\n",
    "- image: "
   ]
  },
  {
   "attachments": {},
   "cell_type": "markdown",
   "metadata": {},
   "source": [
    "## Extra Seed Point\n",
    "- Java Addition \n",
    "\n",
    "- Method 1, using built in Java program Integer.toBinaryString "
   ]
  },
  {
   "cell_type": "code",
   "execution_count": 8,
   "metadata": {},
   "outputs": [
    {
     "name": "stdout",
     "output_type": "stream",
     "text": [
      "Number 1: 1\n",
      "Number 2: 1\n",
      "Decimal addition sum: 10\n",
      "Final Result: 1 + 1 = 10\n"
     ]
    }
   ],
   "source": [
    "import java.util.Scanner;\n",
    "\n",
    "class Main {\n",
    "  public static void main(String[] args) {\n",
    "    Scanner myObj = new Scanner(System.in);\n",
    "\n",
    "    int num1 = myObj.nextInt();\n",
    "    System.out.println(\"Number 1: \" + num1);\n",
    "\n",
    "    int num2 = myObj.nextInt();\n",
    "    System.out.println(\"Number 2: \" + num2);\n",
    "\n",
    "    int decSum = num1 + num2;\n",
    "\n",
    "    // Output input by user\n",
    "    System.out.println(\"Decimal addition sum: \" + Integer.toBinaryString(decSum));\n",
    "    System.out.println(\"Final Result: \" + num1 + \" + \" + num2 + \" = \" + Integer.toBinaryString(decSum));\n",
    "  }\n",
    "}\n",
    "\n",
    "Main.main(null);\n"
   ]
  },
  {
   "attachments": {},
   "cell_type": "markdown",
   "metadata": {},
   "source": [
    "- Method 2, custom method...divide decimal by value...\n",
    "> - Remainder becomes binary value and divide quotient by 2 until you are left with 0 (since it's using integers it'll eventually come down to 1/2 which equals 0)"
   ]
  },
  {
   "cell_type": "code",
   "execution_count": 3,
   "metadata": {},
   "outputs": [
    {
     "name": "stdout",
     "output_type": "stream",
     "text": [
      "Number 1: 1\n",
      "Number 2: 1\n",
      "Decimal addition sum: 10\n",
      "Final Result: 1 + 1 = 10\n"
     ]
    }
   ],
   "source": [
    "import java.util.Scanner;\n",
    "\n",
    "class Main {\n",
    "  public static void main(String[] args) {\n",
    "    Scanner myObj = new Scanner(System.in);\n",
    "\n",
    "    int num1 = myObj.nextInt();\n",
    "    System.out.println(\"Number 1: \" + num1);\n",
    "\n",
    "    int num2 = myObj.nextInt();\n",
    "    System.out.println(\"Number 2: \" + num2);\n",
    "\n",
    "    int decSum = num1 + num2;\n",
    "\n",
    "    int n = decSum;\n",
    "\n",
    "    long binNum = 0;\n",
    "    int remainder;\n",
    "    int i = 1;\n",
    "\n",
    "    while (n!=0) {\n",
    "      remainder = n % 2;\n",
    "        n /= 2;\n",
    "\n",
    "        binNum += remainder * i;\n",
    "        i *= 10;\n",
    "    }\n",
    "    \n",
    "    System.out.println(\"Decimal addition sum: \" + binNum);\n",
    "    System.out.println(\"Final Result: \" + num1 + \" + \" + num2 + \" = \" + binNum);\n",
    "    }\n",
    "\n",
    "  }\n",
    "\n",
    "Main.main(null);"
   ]
  },
  {
   "attachments": {},
   "cell_type": "markdown",
   "metadata": {},
   "source": [
    "## Tech Talk -- Data Types in Java\n",
    "- Primitive Data Types Collegeboard wants...\n",
    "> - int\n",
    "> - double\n",
    "> - idr man\n",
    "\n",
    "- Primitive data types are value only\n",
    "- Local variables == all the variables in the method --> can see them in debugger\n",
    "> - If you hover over classes/variables you can see the value and/or the reference to the value\n",
    "\n",
    "- Two data types in Java...Primitive and Reference...\n",
    "> - Reference means inside of a structure, you have pointers to memory location...two types\n",
    "    > - Objects\n",
    "    > - Arrays\n",
    "> - Primitive is a local value...right there in memory\n",
    "\n",
    "- Wrapper classes\n",
    "> - Class that wraps a primitive data type into an object...\n",
    "    > - Example is int vs Integer...int is a primitive data type that stores 32-bit signed two's complement integer while the Integer is a class that wraps a primitive type int in an object\n",
    "    > - The primitive stores int values in memory while the wrapper converts the primitive data type into an object and to convert an object into the primitive data type\n",
    "\n",
    "- Auto-boxing: basically what wrapper does...you are putting a box around the value to be used later"
   ]
  },
  {
   "cell_type": "code",
   "execution_count": null,
   "metadata": {},
   "outputs": [],
   "source": [
    "// Both of these create new objects\n",
    "Integer n = 5; // Auto-boxing, Integer n = new Integer(5);\n",
    "n += 5;  // Auto-boxing, Integer n = new Integer(n + 5);"
   ]
  },
  {
   "attachments": {},
   "cell_type": "markdown",
   "metadata": {},
   "source": [
    "- Objects and arrays are complex data structures...\n",
    "> - Objects are instances of classes that encapsulate data and behavior --> allows for more flexibility in terms of what data types you want to store\n",
    "> - Arrays are collections of data of the same type\n"
   ]
  },
  {
   "cell_type": "code",
   "execution_count": 1,
   "metadata": {},
   "outputs": [
    {
     "name": "stdout",
     "output_type": "stream",
     "text": [
      "Main method before changeInt(n): n = 5\n",
      "In changeInt method\n",
      "\tBefore n += 10: n = 5\n",
      "\tAfter n += 10: n = 15\n",
      "Main method after changeInt(n): n = 5\n"
     ]
    }
   ],
   "source": [
    "public class IntByValue {\n",
    "    \n",
    "    public static void changeInt(int n) {\n",
    "        System.out.println(\"In changeInt method\");\n",
    "        System.out.println(\"\\tBefore n += 10: n = \" + n); // prints 5\n",
    "        n = n += 10;\n",
    "        System.out.println(\"\\tAfter n += 10: n = \" + n); // prints 10\n",
    "    }\n",
    "\n",
    "    public static void main(String[] args) {\n",
    "        int n = 5;\n",
    "        System.out.println(\"Main method before changeInt(n): n = \" + n); // prints 5\n",
    "        changeInt(n);\n",
    "        System.out.println(\"Main method after changeInt(n): n = \" + n); // still prints 5\n",
    "    }\n",
    "}\n",
    "IntByValue.main(null);"
   ]
  },
  {
   "attachments": {},
   "cell_type": "markdown",
   "metadata": {},
   "source": [
    "- When swapping values, you need to have a temp location since the values might get damaged if they just directly swapped"
   ]
  }
 ],
 "metadata": {
  "kernelspec": {
   "display_name": "Java",
   "language": "java",
   "name": "java"
  },
  "language_info": {
   "codemirror_mode": "java",
   "file_extension": ".jshell",
   "mimetype": "text/x-java-source",
   "name": "java",
   "pygments_lexer": "java",
   "version": "11.0.16+8-post-Ubuntu-0ubuntu120.04"
  },
  "orig_nbformat": 4
 },
 "nbformat": 4,
 "nbformat_minor": 2
}
