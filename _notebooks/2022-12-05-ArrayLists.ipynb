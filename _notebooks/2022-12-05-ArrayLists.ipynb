{
 "cells": [
  {
   "cell_type": "markdown",
   "metadata": {},
   "source": [
    "# Array List Week 7 \n",
    "> Me attempting to do the work and be responsible\n",
    "\n",
    "- toc: true \n",
    "- badges: true\n",
    "- comments: true\n",
    "- categories: [jupyter]\n",
    "- image: images/chart-preview.png"
   ]
  },
  {
   "cell_type": "markdown",
   "metadata": {},
   "source": [
    "## Notes\n",
    "7.1 Intro to ArrayLists\n",
    "- Arrays: Static, Static (fixed size), Fundamental java feature, An object with no methods, Not as flexible, Can store more primitive data, Slightly slower than Arrays\t\n",
    "- ArrayLists: Dynamic (can change size) Part of a framework, A class with many methods, Designed to be more flexible, Store object references, Can only be used with an import statement\n",
    "\n",
    "Primitive Data Types:\n",
    "- boolean\n",
    "- char\n",
    "- double\n",
    "- int\n",
    "\n",
    "Wrapper Class Data Types (Store the primitive values as objects)\n",
    "- Boolean\n",
    "- Character\n",
    "- Double\n",
    "- Integer"
   ]
  },
  {
   "cell_type": "markdown",
   "metadata": {},
   "source": [
    "7.2 ArrayList Methods\n",
    "\n",
    "size();   --> Returns the number of elements in the list\n",
    "add(obj);  --> Adds element at the end\n",
    "add(index, object);   --> Adds element at specific index\n",
    "remove(index);   --> Removes element from specific index\n",
    "set(index, object);   --> Replaces element at index with new object\n",
    "get(index);   --> Returns element at index"
   ]
  },
  {
   "cell_type": "markdown",
   "metadata": {},
   "source": [
    "7.3 Traversing ArrayLists\n",
    "\n",
    "- 2 ways --> for loops and enhanced for loops\n",
    "- use get() instead of bracket notation for getting an element of an arraylist\n",
    "- use size() to find number of elements in arraylist instead of using .length"
   ]
  },
  {
   "cell_type": "markdown",
   "metadata": {},
   "source": [
    "7.4 Developing Algorithms Using ArrayLists\n",
    "\n",
    "They can...\n",
    "- Modify array values\n",
    "- Find the max value\n",
    "- Find the min value"
   ]
  },
  {
   "cell_type": "markdown",
   "metadata": {},
   "source": [
    "7.5 Searching\n",
    "\n",
    "Important to remember...\n",
    "- When looking at int values, the == operator should be used.\n",
    "- When searching for a double value, we need to make sure the value is close enough by doing some math.\n",
    "- Object instances should always use the .equals(otherThing) method to check for a match."
   ]
  },
  {
   "cell_type": "markdown",
   "metadata": {},
   "source": [
    "7.6 Sorting\n",
    "\n",
    "- Selection sort identifies either the maximum or minimum of the compared values and iterates over the structure checking if the item stored at the index matches the condition, if so, it will swap the value stored at the index and continue.\n",
    "- The insertion sort is characterized by building a sorted structure as it proceeds. It inserts each value it finds at the appropriate location in the data structure. This is often accomplished by using a while loop as the inner loop."
   ]
  },
  {
   "cell_type": "markdown",
   "metadata": {},
   "source": [
    "7.7 Ethical Issues around Data Collection\n",
    "\n",
    "- More data --> more to protect --> more likely leak will happen\n",
    "- Delete things you don't need anymore\n",
    "- Ensure important data is encrypted"
   ]
  },
  {
   "cell_type": "markdown",
   "metadata": {},
   "source": [
    "## Hack Number 1\n",
    "Experimenting with arrayList"
   ]
  },
  {
   "cell_type": "code",
   "execution_count": 1,
   "metadata": {},
   "outputs": [
    {
     "name": "stdout",
     "output_type": "stream",
     "text": [
      "There are 6 characters still alive\n",
      "There are now 5 characters still alive\n",
      "There are now 6 characters in the game\n"
     ]
    }
   ],
   "source": [
    "// HACK!!!!\n",
    "// Create an arrayList and use one of the cool methods for it\n",
    "\n",
    "import java.util.ArrayList; \n",
    "\n",
    "public class hack1 {\n",
    "    public static void main (String[] args) {\n",
    "        ArrayList<String> omoriChara = new ArrayList<String>(Arrays.asList(\"Mari\", \"Hero\", \"Aubrey\", \"Basil\", \"Kel\", \"Sunny\"));\n",
    "        System.out.println(\"There are \" + omoriChara.size() + \" characters still alive\");\n",
    "\n",
    "        omoriChara.remove(\"Mari\");\n",
    "        System.out.println(\"There are now \" + omoriChara.size() + \" characters still alive\");\n",
    "        \n",
    "        omoriChara.add(\"Something\");\n",
    "        System.out.println(\"There are now \" + omoriChara.size() + \" characters in the game\");\n",
    "    }\n",
    "}\n",
    "\n",
    "hack1.main(null);"
   ]
  },
  {
   "cell_type": "markdown",
   "metadata": {},
   "source": [
    "## Hack Number 2\n",
    "Removing red terms"
   ]
  },
  {
   "cell_type": "code",
   "execution_count": 2,
   "metadata": {},
   "outputs": [
    {
     "name": "stdout",
     "output_type": "stream",
     "text": [
      "[green box, blue water]\n"
     ]
    }
   ],
   "source": [
    "import java.util.ArrayList;\n",
    "\n",
    "ArrayList<String> color = new ArrayList<String>(); \n",
    "color.add(\"red apple\");\n",
    "color.add(\"green box\");\n",
    "color.add(\"blue water\");\n",
    "color.add(\"red panda\");\n",
    "\n",
    "for(int i = color.size() - 1; i >= 0; i--) { \n",
    "    if(color.get(i).contains(\"red\")) { color.remove(i);}\n",
    "} \n",
    "System.out.println(color);\n",
    "\n",
    "\n",
    "/*/ \n",
    "using \n",
    "\n",
    "if(color.get(i).contains(\"red\"))\n",
    "\n",
    "iterate through the arraylist and remove all elements that contain the word red in them\n",
    "/*/"
   ]
  },
  {
   "cell_type": "markdown",
   "metadata": {},
   "source": [
    "## Hack Number 3\n",
    "Finding the sum"
   ]
  },
  {
   "cell_type": "code",
   "execution_count": 3,
   "metadata": {},
   "outputs": [
    {
     "name": "stdout",
     "output_type": "stream",
     "text": [
      "9"
     ]
    }
   ],
   "source": [
    "// find the sum of the elements in the arraylist\n",
    "\n",
    "ArrayList<Integer> num = new ArrayList<Integer>(); \n",
    "\n",
    "num.add(5);\n",
    "num.add(1);\n",
    "num.add(3);\n",
    "\n",
    "int sum = 0; \n",
    "\n",
    "for (int number: num) { \n",
    "    sum += number; \n",
    "} \n",
    "\n",
    "System.out.print(sum);"
   ]
  },
  {
   "cell_type": "markdown",
   "metadata": {},
   "source": [
    "## Quiz\n",
    "I took it like twice but I forgot to screenshot it so, I really hope you accept my word ;-;"
   ]
  }
 ],
 "metadata": {
  "kernelspec": {
   "display_name": "Java",
   "language": "java",
   "name": "java"
  },
  "language_info": {
   "codemirror_mode": "java",
   "file_extension": ".jshell",
   "mimetype": "text/x-java-source",
   "name": "java",
   "pygments_lexer": "java",
   "version": "11.0.16+8-post-Ubuntu-0ubuntu120.04"
  },
  "orig_nbformat": 4
 },
 "nbformat": 4,
 "nbformat_minor": 2
}
