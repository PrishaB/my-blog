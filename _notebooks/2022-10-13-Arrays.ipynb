{
 "cells": [
  {
   "cell_type": "markdown",
   "metadata": {},
   "source": [
    "# Arrays Lesson Hacks\n",
    "> My attempt at the Arrays Lesson hw\n",
    "\n",
    "- toc: true \n",
    "- badges: true\n",
    "- comments: true\n",
    "- categories: [jupyter]\n",
    "- image: "
   ]
  },
  {
   "cell_type": "markdown",
   "metadata": {},
   "source": [
    "## Swap Last and First Elements\n"
   ]
  },
  {
   "cell_type": "code",
   "execution_count": 2,
   "metadata": {},
   "outputs": [
    {
     "name": "stdout",
     "output_type": "stream",
     "text": [
      "Original Array: [20, 30, 40]\n",
      "New array after swaping the first and last elements: [40, 30, 20]\n"
     ]
    }
   ],
   "source": [
    "import java.util.Arrays; \n",
    " public class ArrayMethods {\n",
    " public static void main(String[] args)\n",
    " {\n",
    "    int[] array_nums = {20, 30, 40};\n",
    "\tSystem.out.println(\"Original Array: \"+Arrays.toString(array_nums)); \n",
    "\tint x = array_nums[0];\n",
    "\tarray_nums[0] = array_nums[array_nums.length-1];\n",
    "\tarray_nums[array_nums.length-1] = x;\n",
    "\tSystem.out.println(\"New array after swaping the first and last elements: \"+Arrays.toString(array_nums));  \n",
    " }\n",
    "}\n",
    "ArrayMethods.main(null);"
   ]
  },
  {
   "cell_type": "markdown",
   "metadata": {},
   "source": [
    "## Check for Duplicates"
   ]
  },
  {
   "cell_type": "code",
   "execution_count": 6,
   "metadata": {},
   "outputs": [
    {
     "name": "stdout",
     "output_type": "stream",
     "text": [
      "Duplicate Element : 2\n",
      "Duplicate Element : 5\n",
      "Duplicate Element : 6\n"
     ]
    }
   ],
   "source": [
    "import java.util.Arrays; \n",
    "public class Duplicates {\n",
    "  public static void main(String[] args) \n",
    "    {\n",
    "        int[] my_array = {1, 2, 5, 5, 6, 6, 7, 2};\n",
    " \n",
    "        for (int i = 0; i < my_array.length-1; i++)\n",
    "        {\n",
    "            for (int j = i+1; j < my_array.length; j++)\n",
    "            {\n",
    "                if ((my_array[i] == my_array[j]) && (i != j))\n",
    "                {\n",
    "                    System.out.println(\"Duplicate Element : \"+my_array[j]);\n",
    "                }\n",
    "            }\n",
    "        }\n",
    "    }    \n",
    "}\n",
    "Duplicates.main(null);"
   ]
  },
  {
   "attachments": {},
   "cell_type": "markdown",
   "metadata": {},
   "source": [
    "## Check if Array is Increasing/Decreasing"
   ]
  },
  {
   "cell_type": "code",
   "execution_count": 2,
   "metadata": {},
   "outputs": [
    {
     "name": "stdout",
     "output_type": "stream",
     "text": [
      "Increasing\n"
     ]
    }
   ],
   "source": [
    "\n",
    "import java.math.*;\n",
    " \n",
    "class GFG\n",
    "{\n",
    " \n",
    "    public static void checkType(int arr[], int n)\n",
    "    {\n",
    "     \n",
    "        if (arr[0] <= arr[1] &&\n",
    "            arr[n - 2] <= arr[n - 1])\n",
    "            System.out.println(\"Increasing\");\n",
    "     \n",
    "        else if (arr[0] >= arr[1] &&\n",
    "                 arr[n - 2] >= arr[n - 1])\n",
    "            System.out.println(\"Decreasing\");\n",
    "     \n",
    "        else if (arr[0] <= arr[1] &&\n",
    "                 arr[n - 2] >= arr[n - 1])\n",
    "            System.out.println(\"Increasing then decreasing\");\n",
    " \n",
    "        else\n",
    "            System.out.println(\"Decreasing then increasing\");\n",
    "    }\n",
    "         \n",
    "\n",
    "    public static void main(String[] args)\n",
    "    {\n",
    "        int[] arr = new int[]{ 1, 2, 3, 4 };\n",
    "         \n",
    "        int n = arr.length;\n",
    " \n",
    "        checkType(arr, n);\n",
    "    }\n",
    "}\n",
    "GFG.main(null);"
   ]
  }
 ],
 "metadata": {
  "kernelspec": {
   "display_name": "Java",
   "language": "java",
   "name": "java"
  },
  "language_info": {
   "codemirror_mode": "java",
   "file_extension": ".jshell",
   "mimetype": "text/x-java-source",
   "name": "java",
   "pygments_lexer": "java",
   "version": "11.0.16+8-post-Ubuntu-0ubuntu120.04"
  },
  "orig_nbformat": 4
 },
 "nbformat": 4,
 "nbformat_minor": 2
}
