{
 "cells": [
  {
   "attachments": {},
   "cell_type": "markdown",
   "metadata": {},
   "source": [
    "#52 Question Quiz Corrections\n",
    "> What I got wrong \n",
    "\n",
    "- toc: true \n",
    "- badges: true\n",
    "- comments: true\n",
    "- categories: [jupyter]\n",
    "- image: "
   ]
  },
  {
   "attachments": {},
   "cell_type": "markdown",
   "metadata": {},
   "source": [
    "## Quiz Score\n",
    "\n",
    "51/52"
   ]
  },
  {
   "attachments": {},
   "cell_type": "markdown",
   "metadata": {},
   "source": [
    "## Incorrect Question...\n",
    "\n",
    "Question 1\n",
    "- Question: Consider the following code segment."
   ]
  },
  {
   "cell_type": "code",
   "execution_count": null,
   "metadata": {},
   "outputs": [],
   "source": [
    "int[][] anArray = new int[10][8];\n",
    "\n",
    " \n",
    "\n",
    "for (int j = 0; j < 8; j++)\n",
    "\n",
    "{\n",
    "\n",
    "for (int k = 0; k < 10; k++)\n",
    "\n",
    "{\n",
    "\n",
    "anArray[j][k] = 5;\n",
    "\n",
    "}\n",
    "\n",
    "}"
   ]
  },
  {
   "attachments": {},
   "cell_type": "markdown",
   "metadata": {},
   "source": [
    "- The code segment causes an ArrayIndexOutOfBoundsException to be thrown. How many elements in anArray will be set to 5 before the exception is thrown?\n",
    "- Correct Answer: 8\n",
    "- Explanation: I just counted wrong...I included the last value in the column when in reality the function would have stopped there"
   ]
  },
  {
   "attachments": {},
   "cell_type": "markdown",
   "metadata": {},
   "source": [
    "## General Reflections on Test\n",
    "- Took me too long to complete the quiz, should have been able to finish it faster."
   ]
  }
 ],
 "metadata": {
  "kernelspec": {
   "display_name": "Java",
   "language": "java",
   "name": "java"
  },
  "language_info": {
   "name": "java",
   "version": "3.8.10"
  },
  "orig_nbformat": 4,
  "vscode": {
   "interpreter": {
    "hash": "916dbcbb3f70747c44a77c7bcd40155683ae19c65e1c03b4aa3499c5328201f1"
   }
  }
 },
 "nbformat": 4,
 "nbformat_minor": 2
}
