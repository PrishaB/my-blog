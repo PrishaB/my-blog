{
 "cells": [
  {
   "attachments": {},
   "cell_type": "markdown",
   "metadata": {},
   "source": [
    "# 66 Question Quiz Corrections\n",
    "> What I got wrong \n",
    "\n",
    "- toc: true \n",
    "- badges: true\n",
    "- comments: true\n",
    "- categories: [jupyter]\n",
    "- image: "
   ]
  },
  {
   "attachments": {},
   "cell_type": "markdown",
   "metadata": {},
   "source": [
    "## Quiz Score\n",
    "\n",
    "58/66"
   ]
  },
  {
   "attachments": {},
   "cell_type": "markdown",
   "metadata": {},
   "source": [
    "## Incorrect Questions...\n",
    "\n",
    "Question 12\n",
    "- Question: Assume that x and y have been declared and initialized with int values. Consider the following Java expression."
   ]
  },
  {
   "cell_type": "code",
   "execution_count": null,
   "metadata": {},
   "outputs": [],
   "source": [
    "(y > 10000) || (x > 1000 && x < 1500)"
   ]
  },
  {
   "attachments": {},
   "cell_type": "markdown",
   "metadata": {},
   "source": [
    "- Which of the following is equivalent to the expression given above?\n",
    "- Correct Answer:"
   ]
  },
  {
   "cell_type": "code",
   "execution_count": null,
   "metadata": {},
   "outputs": [],
   "source": [
    "(y > 10000 || x > 1000) || (y > 10000 || x < 1500)"
   ]
  },
  {
   "attachments": {},
   "cell_type": "markdown",
   "metadata": {},
   "source": [
    "- Explanation: The original expression evaluates to true when either y is greater than 10000 or x is between 1000 and 1500. If the value of y is greater than 10000, this equivalent expression will evaluate to true since it is used in both of the or (||) expressions. If y is not greater than 10000, the only way the equivalent expression can evaluate to true is if x is between 1000 and 1500.\n",
    "\n",
    "Question 13\n",
    "- Question: Assume that x and y are boolean variables and have been properly initialized."
   ]
  },
  {
   "cell_type": "code",
   "execution_count": null,
   "metadata": {},
   "outputs": [],
   "source": [
    "(x || y) && x"
   ]
  },
  {
   "attachments": {},
   "cell_type": "markdown",
   "metadata": {},
   "source": [
    "- Which of the following always evaluates to the same value as the expression above?\n",
    "- Correct Answer: x\n",
    "- Explanation: For the expression to evaluate to true, the expressions on either side of the && operator must be true. If x is true then x || y is true regardless of the value of y, meaning (x || y) && x evaluates to true. If x is false, the expression evaluates to false regardless of the value of (x || y).\n",
    "\n",
    "Question 36\n",
    "- Question: Consider the following declarations.\n"
   ]
  },
  {
   "cell_type": "code",
   "execution_count": null,
   "metadata": {},
   "outputs": [],
   "source": [
    "Actor a = new Actor();\n",
    "Bug b = new Bug();\n",
    "Rock r = new Rock();\n",
    "Critter c = new Critter();"
   ]
  },
  {
   "attachments": {},
   "cell_type": "markdown",
   "metadata": {},
   "source": [
    "- Consider the following lines of code."
   ]
  },
  {
   "attachments": {},
   "cell_type": "markdown",
   "metadata": {},
   "source": [
    "Line 1:      int dir1 = c.getDirection();\n",
    "Line 2:      int dir2 = a.getDirection();\n",
    "Line 3:      int dir3 = b.getDirection();\n",
    "Line 4:      ArrayList<Location> rLoc = r.getMoveLocations();\n",
    "Line 5:      ArrayList<Location> cLoc = c.getMoveLocations();"
   ]
  },
  {
   "attachments": {},
   "cell_type": "markdown",
   "metadata": {},
   "source": [
    "- Which of the lines of code above will cause a compile time error?\n",
    "- Correct Answer: Line 4 only  \n",
    "- Explanation: Not entirely sure lol\n",
    "\n",
    "Question 40\n",
    "- Question: Consider the following data field and method. Method maxHelper is intended to return the largest value among the first numVals values in an array; however, maxHelper does not work as intended."
   ]
  },
  {
   "cell_type": "code",
   "execution_count": null,
   "metadata": {},
   "outputs": [],
   "source": [
    "private int[] nums;\n",
    "\n",
    "// precondition: 0 < numVals <= nums.length\n",
    "\n",
    "private int maxHelper(int numVals)\n",
    "\n",
    "{\n",
    "\n",
    "//Line 1:   \n",
    "int max = maxHelper(numVals - 1);\n",
    "\n",
    "//Line 2:   \n",
    "if (max > nums[numVals - 1])\n",
    "\n",
    "     return max;\n",
    "\n",
    "   else\n",
    "\n",
    "     return nums[numVals - 1];\n",
    "\n",
    " }\n",
    "\n"
   ]
  },
  {
   "attachments": {},
   "cell_type": "markdown",
   "metadata": {},
   "source": [
    "- Which of the following corrects the method maxHelper so that it works as intended?\n",
    "- Correct Answer: Insert the following statement before Line 1."
   ]
  },
  {
   "cell_type": "code",
   "execution_count": null,
   "metadata": {},
   "outputs": [],
   "source": [
    "if (numVals == 1\n",
    "\n",
    "    return nums[0];"
   ]
  },
  {
   "attachments": {},
   "cell_type": "markdown",
   "metadata": {},
   "source": [
    "- Explanation: I'm just bad\n",
    "\n",
    "Question 51\n",
    "- Question: Consider the following method, which returns an int based on its parameter x."
   ]
  },
  {
   "cell_type": "code",
   "execution_count": null,
   "metadata": {},
   "outputs": [],
   "source": [
    "public static int puzzle(int x)\n",
    "\n",
    "{\n",
    "\n",
    "if (x > 20)\n",
    "\n",
    "{\n",
    "\n",
    "x -= 2;\n",
    "\n",
    "}\n",
    "\n",
    "else if (x % 2 == 0) // Line 7\n",
    "\n",
    "{\n",
    "\n",
    "x += 4;\n",
    "\n",
    "}\n",
    "\n",
    "return x;\n",
    "\n",
    "}"
   ]
  },
  {
   "attachments": {},
   "cell_type": "markdown",
   "metadata": {},
   "source": [
    "- Consider a modification to the method that eliminates the else from line 7 so that line 7 becomes"
   ]
  },
  {
   "cell_type": "code",
   "execution_count": null,
   "metadata": {},
   "outputs": [],
   "source": [
    "if (x % 2 == 0) // Modified line 7"
   ]
  },
  {
   "attachments": {},
   "cell_type": "markdown",
   "metadata": {},
   "source": [
    "- For which of the following values of x would the return values of the original method and the modified method differ?\n",
    "- Correct Answer: 22\n",
    "- Explanation: In the original method, the call puzzle(22) returns 20. The first condition evaluates to true, so x is decreased by two and 20 is returned. In the original method, when the condition in the if statement evaluates to true, the second condition, in the else if clause, is not evaluated. For the modified method, the first condition still evaluates to true and x is decreased by two. But now the second condition appears in an if statement, instead of in an else if clause, so the second condition is evaluated, found to be true, and x is increased by four. This results in the value 24 being returned.\n",
    "\n",
    "Question 53\n",
    "- Question: Consider the following two methods, which are intended to return the same values when they are called with the same positive integer parameter n."
   ]
  },
  {
   "cell_type": "code",
   "execution_count": null,
   "metadata": {},
   "outputs": [],
   "source": [
    "public static int mystery1(int n)\n",
    "\n",
    "{\n",
    "\n",
    "if (n > 1)\n",
    "\n",
    "{\n",
    "\n",
    "return 5 + mystery1(n - 1);\n",
    "\n",
    "}\n",
    "\n",
    "else\n",
    "\n",
    "{\n",
    "\n",
    "return 1;\n",
    "\n",
    "}\n",
    "\n",
    "}\n",
    "\n",
    "public static int mystery2(int n)\n",
    "\n",
    "{\n",
    "\n",
    "int total = 0;\n",
    "\n",
    "int x = 1;\n",
    "\n",
    "while (x < n)\n",
    "\n",
    "{\n",
    "\n",
    "total += 5;\n",
    "\n",
    "x++;\n",
    "\n",
    "}\n",
    "\n",
    "return total;\n",
    "\n",
    "}"
   ]
  },
  {
   "attachments": {},
   "cell_type": "markdown",
   "metadata": {},
   "source": [
    "- Which, if any, of the following changes to mystery2 is required so that the two methods work as intended?\n",
    "- Correct Answer: The variable total should be initialized to 1.\n",
    "- Explanation: TBH I guessed on this one so I don't really know how to get the right answer\n",
    "\n",
    "Question 54\n",
    "- Question: Consider the following recursive method."
   ]
  },
  {
   "cell_type": "code",
   "execution_count": null,
   "metadata": {},
   "outputs": [],
   "source": [
    "public static boolean recurMethod(String str)\n",
    "\n",
    "{\n",
    "\n",
    "if (str.length() <= 1)\n",
    "\n",
    "{\n",
    "\n",
    "return true;\n",
    "\n",
    "}\n",
    "\n",
    "else if (str.substring(0, 1).compareTo(str.substring(1, 2)) > 0)\n",
    "\n",
    "{\n",
    "\n",
    "return recurMethod(str.substring(1));\n",
    "\n",
    "}\n",
    "\n",
    "else\n",
    "\n",
    "{\n",
    "\n",
    "return false;\n",
    "\n",
    "}\n",
    "\n",
    "}"
   ]
  },
  {
   "attachments": {},
   "cell_type": "markdown",
   "metadata": {},
   "source": [
    "- Which of the following method calls will return true?\n",
    "- Correct Answer: recurMethod(\"edcba\")\n",
    "- Explanation: If the first character of str is lexicographically greater than the second character of str, the method returns the result of the recursive call with a parameter that contains all but the first character of str. If the first character of str is lexicographically less than or equal to the second character of str, the method returns false. If no such character pair (where the first character of str is lexicographically less than or equal to the second character of str) is found, the base case is reached and the value true is returned.\n",
    "\n",
    "Question 60\n",
    "- Question: Consider a shuffle method that is intended to return a new array that contains all the elements from nums, but in a different order. Let n be the number of elements in nums. The shuffle method should alternate the elements from nums [0] … nums[n / 2 – 1] with the elements from nums[n / 2] …nums[n – 1], as illustrated in the following examples.\n",
    "- The following implementation of the shuffle method does not work as intended."
   ]
  },
  {
   "cell_type": "code",
   "execution_count": null,
   "metadata": {},
   "outputs": [],
   "source": [
    "public static int [] shuffle(int[] nums)\n",
    "{ \n",
    "    int n = nums.length;\n",
    "    int[] result = new int[n];\n",
    "    for (int j = 0; j < n / 2; j++)\n",
    "    {\n",
    "        result[j * 2] = nums[j];\n",
    "        result[j * 2 + 1] = nums[j + n / 2];\n",
    "    }\n",
    "    return result;\n",
    "}"
   ]
  },
  {
   "attachments": {},
   "cell_type": "markdown",
   "metadata": {},
   "source": [
    "- Which of the following best describes the problem with the given implementation of the shuffle method?\n",
    "- Correct Answer: The last element of the returned array (result [result.length − 1] ) may not have the correct value.\n",
    "- Explanation: Not really sure here either, same reason as the last last question."
   ]
  },
  {
   "attachments": {},
   "cell_type": "markdown",
   "metadata": {},
   "source": [
    "## General Reflections on Test\n",
    "- Need to read questions more thoroughly and review Java syntax a bit more\n",
    "- I got 8 wrong on the Test which would mean I scored 58/66...I can definitely do better especially since I had to search up a lot of the questions to get help on them\n",
    "- I should definitely look over all the units and review them."
   ]
  }
 ],
 "metadata": {
  "kernelspec": {
   "display_name": "Java",
   "language": "java",
   "name": "java"
  },
  "language_info": {
   "name": "java",
   "version": "3.8.10"
  },
  "orig_nbformat": 4,
  "vscode": {
   "interpreter": {
    "hash": "916dbcbb3f70747c44a77c7bcd40155683ae19c65e1c03b4aa3499c5328201f1"
   }
  }
 },
 "nbformat": 4,
 "nbformat_minor": 2
}
