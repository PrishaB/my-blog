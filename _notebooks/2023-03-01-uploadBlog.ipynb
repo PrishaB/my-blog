{
 "cells": [
  {
   "attachments": {},
   "cell_type": "markdown",
   "metadata": {},
   "source": [
    "# Blogging Upload Feature on Website\n",
    "> Explaining Code + Problems I had\n",
    "\n",
    "- toc: true \n",
    "- badges: true\n",
    "- comments: true\n",
    "- categories: [jupyter]\n",
    "- image: "
   ]
  },
  {
   "attachments": {},
   "cell_type": "markdown",
   "metadata": {},
   "source": [
    "## Original Code\n",
    "- I had originally written some code that didn't save the data in volumes \n",
    "> - Volumes is a persistent folder meaning items stored there are saved after the project is shut down\n",
    "> - Not storing in Volumes can result in the files getting deleted --> won't be there next time user logs in\n",
    "- Let's dive into Mr. M's code since mine is just a simplified version of his"
   ]
  },
  {
   "attachments": {},
   "cell_type": "markdown",
   "metadata": {},
   "source": [
    "## UploadController.java\n",
    "- Two major parts to the controller...\n",
    "> - Uploader\n",
    ">> - Responsible for collecting the file, converting it into bytes to be stored, and storing required metadata in database (this feature currently not functioning)\n",
    "> - Upload\n",
    ">> - Responsible for taking the uploaded files and displaying them to the user\n",
    ">> - I had initially thought the code would loop through volumes and compile the images in a list but it appears it only lists the files the user just uploaded? Or maybe that's because I am working on localhost instead of a deployed site? Or maybe it's cuz the database is not working. Still need to figure these questions out\n",
    "\n",
    "## Uploader Code..."
   ]
  },
  {
   "cell_type": "code",
   "execution_count": null,
   "metadata": {},
   "outputs": [],
   "source": [
    " // uploader page: filesystem and database management of uploaded image\n",
    "    @PostMapping(\"/mvc/uploader\")\n",
    "    public String mvcUploader(@RequestParam(\"filename\") MultipartFile formFile, Model modelMap) {\n",
    "        /*\n",
    "         * The static directory is loaded at startup. UploadING images or makING changes\n",
    "         * to any files or\n",
    "         * folders under the static folder will not reflect as ApplicationContext is\n",
    "         * already initialized.\n",
    "         */\n",
    "        String filePath = \"volumes/uploads/\"; // thus, uploads defined outside of static for dynamic updates\n",
    "        String webPath = \"/\" + filePath; // webPath\n",
    "\n",
    "        // A database table, using Upload POJO, is remembers location of upload and\n",
    "        // associated metadata\n",
    "        Upload repoFile = new Upload();\n",
    "        repoFile.setFile(webPath + formFile.getOriginalFilename());\n",
    "        repoFile.setType(formFile.getContentType());\n",
    "        repoFile.setSize(formFile.getSize());\n",
    "\n",
    "        // try/catch is in place, but error handling is not implemented (returns without\n",
    "        // alerts)\n",
    "        try {\n",
    "            // Creating the directory to store file\n",
    "            File dir = new File(filePath);\n",
    "            if (!dir.exists())\n",
    "                dir.mkdirs();\n",
    "\n",
    "            // Create the file on server\n",
    "            byte[] bytes = formFile.getBytes();\n",
    "\n",
    "            // File write alternatives (going with Stream for now as in theory it would be\n",
    "            // non-blocking)\n",
    "            String path = filePath + formFile.getOriginalFilename();\n",
    "            File serverFile = new File(path);\n",
    "            BufferedOutputStream stream = new BufferedOutputStream(\n",
    "                    new FileOutputStream(serverFile));\n",
    "            stream.write(bytes);\n",
    "            stream.close();\n",
    "\n",
    "            // JPA save\n",
    "            repo.save(repoFile);\n",
    "\n",
    "        } catch (IOException e) {\n",
    "            e.printStackTrace(); // app stays alive, errors go to run console, /var/log/syslog\n",
    "        }\n",
    "\n",
    "        // Redirect back to action page\n",
    "        return \"redirect:/mvc/upload\";\n",
    "\n",
    "    }"
   ]
  },
  {
   "attachments": {},
   "cell_type": "markdown",
   "metadata": {},
   "source": [
    "## Break down...\n",
    "- URL for calling the function is /mvc/uploader\n",
    "- Takes the multipart file (like an image for example) that the user inputs\n",
    "- Directs all files to a directory in volumes titled uploads\n",
    "- The following creates the uploads directory if it didn't already exist. If it does exist, the code will continue without executing this section"
   ]
  },
  {
   "cell_type": "code",
   "execution_count": null,
   "metadata": {},
   "outputs": [],
   "source": [
    "File dir = new File(filePath);\n",
    "if (!dir.exists())\n",
    "    dir.mkdirs();"
   ]
  },
  {
   "attachments": {},
   "cell_type": "markdown",
   "metadata": {},
   "source": [
    "- The following code is supposed to add metadata of the uploaded file to a database table...but it wasn't doing that...need to figure out why"
   ]
  },
  {
   "cell_type": "code",
   "execution_count": null,
   "metadata": {},
   "outputs": [],
   "source": [
    "Upload repoFile = new Upload();\n",
    "repoFile.setFile(webPath + formFile.getOriginalFilename());\n",
    "repoFile.setType(formFile.getContentType());\n",
    "repoFile.setSize(formFile.getSize());"
   ]
  },
  {
   "attachments": {},
   "cell_type": "markdown",
   "metadata": {},
   "source": [
    "The code following that takes the file and converts it to bytes since that's how the code can read and store the file."
   ]
  },
  {
   "cell_type": "code",
   "execution_count": null,
   "metadata": {},
   "outputs": [],
   "source": [
    "byte[] bytes = formFile.getBytes();"
   ]
  },
  {
   "attachments": {},
   "cell_type": "markdown",
   "metadata": {},
   "source": [
    "- Then the code puts the file in volumes/uploads and saves it for the next user login\n",
    "- Utilizes output string to do this --> take bytes and stores them in a location"
   ]
  },
  {
   "cell_type": "code",
   "execution_count": null,
   "metadata": {},
   "outputs": [],
   "source": [
    "String path = filePath + formFile.getOriginalFilename();\n",
    "File serverFile = new File(path);\n",
    "BufferedOutputStream stream = new BufferedOutputStream(\n",
    "        new FileOutputStream(serverFile));\n",
    "stream.write(bytes);\n",
    "stream.close();\n",
    "\n",
    "// JPA save\n",
    "repo.save(repoFile);"
   ]
  },
  {
   "attachments": {},
   "cell_type": "markdown",
   "metadata": {},
   "source": [
    "## Upload Code...\n"
   ]
  },
  {
   "cell_type": "code",
   "execution_count": null,
   "metadata": {},
   "outputs": [],
   "source": [
    "    // user action page: upload controls and displays a history of images\n",
    "    @GetMapping(\"/mvc/upload\")\n",
    "    public String mvcUpload(Model model) {\n",
    "        List<Upload> files = repo.findAll(); // extract image history\n",
    "        System.out.println(\"Number of files uploaded: \" + files.size());\n",
    "        for (int i = 0; i < files.size(); i++) {\n",
    "            System.out.println(files.get(i).getFile());\n",
    "        }\n",
    "        model.addAttribute(\"files\", files);\n",
    "\n",
    "        return \"mvc/upload\";\n",
    "    }"
   ]
  },
  {
   "attachments": {},
   "cell_type": "markdown",
   "metadata": {},
   "source": [
    "## Breakdown...\n",
    "- This part of the controller stores in a list all the values associated with the file based on upload class in upload.java \n",
    "- List<Upload> files is a list of the files the user uploaded\n",
    "- The print line and for loop was just for me to test...in the terminal it prints how many files are saved in the upload list --> realized that this only takes into account recently uploaded files\n",
    "- Code ends with running the html file stored in resources/mvc\n",
    "> - Originally tried to create upload.html in frontend...although I could call the frontend html file, I got a cross origins error (iirc) and decided to just have the file be in backend\n",
    "> - OMG I JUST REALIZED maybe it's cuz Github pages doesn't support post method? So either way it wouldn't have worked out I think\n",
    "\n",
    "## Upload.html\n",
    "- (Commented out code is just me testing and trying to display the image lol)"
   ]
  },
  {
   "cell_type": "code",
   "execution_count": null,
   "metadata": {},
   "outputs": [],
   "source": [
    "<!DOCTYPE html>\n",
    "<html>\n",
    "    <body><p id=\"para-test\">Uploaded Images: </p>\n",
    "    <form enctype=\"multipart/form-data\" method=\"POST\">\n",
    "    <!--    <image th:src=\"@{__${files.file}__}\" width=\"150px\"></image>\n",
    "    <image src=\"/volumes/uploads/ahemKamisatoKids.png\"></image>-->\n",
    "    <div id=\"image-list\" th:each=\"file : ${files}\">\n",
    "        <h4 th:text=\"${file.file}\" /> \n",
    "        <image th:src=\"${file.file}\" width=\"150px\"></image>\n",
    "        <!-- Other Properties -->\n",
    "    </div>\n",
    "    </form>\n",
    "    </body>\n",
    "</html>"
   ]
  },
  {
   "cell_type": "code",
   "execution_count": null,
   "metadata": {},
   "outputs": [],
   "source": [
    "<body><p id=\"para-test\">Uploaded Images: </p>\n",
    "    <form enctype=\"multipart/form-data\" method=\"POST\">"
   ]
  },
  {
   "attachments": {},
   "cell_type": "markdown",
   "metadata": {},
   "source": [
    "- Since uploaded item is an image...enctype is multipart/form-data --> images are multipart files"
   ]
  },
  {
   "cell_type": "code",
   "execution_count": null,
   "metadata": {},
   "outputs": [],
   "source": [
    "<div id=\"image-list\" th:each=\"file : ${files}\">\n",
    "        <h4 th:text=\"${file.file}\" /> \n",
    "        <image th:src=\"${file.file}\" width=\"150px\"></image>"
   ]
  },
  {
   "attachments": {},
   "cell_type": "markdown",
   "metadata": {},
   "source": [
    "- The above code snippet takes the image-list from the mvcUpload class in controller and displays it along with the file name --> name taken from the stored metadata\n",
    "\n",
    "## MvcConfig.java\n",
    "- This is where the resource handlers are stored. Needed to serve static resources (things that aren't server generated but need to be sent to the browser once they are requested) \n",
    "- Used resourceHandler and resourceLocations...Handler is handling the static files while Locations is assigning a location to permanently store them --> needed to make volumes persistent"
   ]
  },
  {
   "cell_type": "code",
   "execution_count": null,
   "metadata": {},
   "outputs": [],
   "source": [
    "@Override\n",
    "    public void addResourceHandlers(final ResourceHandlerRegistry registry) {\n",
    "        registry.addResourceHandler(\"/volumes/uploads/**\").addResourceLocations(\"file:volumes/uploads/\");\n",
    "    }"
   ]
  },
  {
   "attachments": {},
   "cell_type": "markdown",
   "metadata": {},
   "source": [
    "## Upload2.html \n",
    "- Frontend code..."
   ]
  },
  {
   "cell_type": "code",
   "execution_count": null,
   "metadata": {
    "vscode": {
     "languageId": "javascript"
    }
   },
   "outputs": [],
   "source": [
    "<script>\n",
    "function uploadFile()\n",
    "            {\n",
    "               alert(\"Hello Prisha\"+ fileInput.files[0].name);\n",
    "               var innerhtml = document.getElementById(\"img-test\").innerHTML;\n",
    "               console.log(\"testing\");\n",
    "               var formdata = new FormData();\n",
    "               formdata.append(\"filename\", fileInput.files[0]);\n",
    "               var requestOptions = {\n",
    "               method: 'POST',\n",
    "               body: formdata,\n",
    "               redirect: 'follow'\n",
    "               };\n",
    "               console.log(\"before calling the URL\");\n",
    "               fetch(\"http://localhost:8192/mvc/uploader\", requestOptions)\n",
    "               .then(response => response.text())\n",
    "               .then(result => console.log(result))\n",
    "               .catch(error => console.log('error', error));\n",
    "               alert(\"Completed\");\n",
    "            }           \n",
    "</script>"
   ]
  },
  {
   "attachments": {},
   "cell_type": "markdown",
   "metadata": {},
   "source": [
    "- Fetch request to backend...alerts and consoles intertwined for testing (initially the code ran but no result was seen, needed to include alerts for debugging)"
   ]
  },
  {
   "cell_type": "code",
   "execution_count": null,
   "metadata": {
    "vscode": {
     "languageId": "html"
    }
   },
   "outputs": [],
   "source": [
    "<html>\n",
    "    <body>\n",
    "        <form id='formid'> \n",
    "            <input type=\"file\" name=\"fileInput\" id=\"fileInput\">\n",
    "            <button onclick=\"uploadFile()\" name=\"submit\">Submit</button>\n",
    "        </form> \n",
    "        <br>\n",
    "        <iframe id=\"img-test\" src=\"http://localhost:8192/mvc/upload\" width=\"100%\" height=\"100%\"> </iframe>\n",
    "    </body>\n",
    "</html>"
   ]
  },
  {
   "attachments": {},
   "cell_type": "markdown",
   "metadata": {},
   "source": [
    "- Html button to call code. The iframe feature is used to display the mvc/upload.html in backend.  "
   ]
  }
 ],
 "metadata": {
  "kernelspec": {
   "display_name": "Java",
   "language": "java",
   "name": "java"
  },
  "language_info": {
   "name": "java"
  },
  "orig_nbformat": 4
 },
 "nbformat": 4,
 "nbformat_minor": 2
}
