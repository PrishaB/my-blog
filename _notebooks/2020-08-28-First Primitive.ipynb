{
 "cells": [
  {
   "cell_type": "markdown",
   "metadata": {},
   "source": [
    "# Primitives Notebook 01\n",
    "> Primitives Learning Captured (8/28)\n",
    "\n",
    "- toc: true \n",
    "- badges: true\n",
    "- comments: true\n",
    "- categories: [jupyter]\n",
    "- image: images/chart-preview.png"
   ]
  },
  {
   "cell_type": "markdown",
   "metadata": {},
   "source": [
    "# Fastpages Primitives Notes/Learning Captured\n",
    "\n",
    "- set of data types\n",
    "- in CSA exam; consist of int, boolean, double\n",
    "    - int; integer\n",
    "    - boolean; true/false\n",
    "    - double; stores floating pt numbers\n",
    "- includes variables\n"
   ]
  },
  {
   "cell_type": "code",
   "execution_count": 1,
   "metadata": {},
   "outputs": [
    {
     "name": "stdout",
     "output_type": "stream",
     "text": [
      "anInt: 100\n",
      "aDouble: 89.9\n",
      "aBoolean: true\n",
      "aString: Hello, World!\n",
      "aStringFormal: Greetings, World!\n"
     ]
    }
   ],
   "source": [
    "public class DefinePrimitives {\n",
    "    public static void main(String[] args) {\n",
    "      int anInt = 100;\n",
    "      double aDouble = 89.9;\n",
    "      boolean aBoolean = true;\n",
    "\n",
    "      // not primitives but essential\n",
    "      String aString = \"Hello, World!\";   // wrapper class shortcut assignment\n",
    "      String aStringFormal = new String(\"Greetings, World!\");\n",
    "  \n",
    "      System.out.println(\"anInt: \" + anInt);\n",
    "      System.out.println(\"aDouble: \" + aDouble);\n",
    "      System.out.println(\"aBoolean: \" + aBoolean);\n",
    "      System.out.println(\"aString: \" + aString);\n",
    "      System.out.println(\"aStringFormal: \" + aStringFormal);\n",
    "    }\n",
    "  }\n",
    "  DefinePrimitives.main(null)"
   ]
  }
 ],
 "metadata": {
  "kernelspec": {
   "display_name": "Java",
   "language": "java",
   "name": "java"
  },
  "language_info": {
   "codemirror_mode": "java",
   "file_extension": ".jshell",
   "mimetype": "text/x-java-source",
   "name": "Java",
   "pygments_lexer": "java",
   "version": "11.0.16+8-post-Ubuntu-0ubuntu120.04"
  },
  "varInspector": {
   "cols": {
    "lenName": 16,
    "lenType": 16,
    "lenVar": 40
   },
   "kernels_config": {
    "python": {
     "delete_cmd_postfix": "",
     "delete_cmd_prefix": "del ",
     "library": "var_list.py",
     "varRefreshCmd": "print(var_dic_list())"
    },
    "r": {
     "delete_cmd_postfix": ") ",
     "delete_cmd_prefix": "rm(",
     "library": "var_list.r",
     "varRefreshCmd": "cat(var_dic_list()) "
    }
   },
   "types_to_exclude": [
    "module",
    "function",
    "builtin_function_or_method",
    "instance",
    "_Feature"
   ],
   "window_display": false
  }
 },
 "nbformat": 4,
 "nbformat_minor": 4
}
