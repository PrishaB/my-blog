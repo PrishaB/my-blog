{
 "cells": [
  {
   "attachments": {},
   "cell_type": "markdown",
   "metadata": {},
   "source": [
    "# Week of 4/17 -- Lesson 2\n",
    "> Arrays and 2D Arrays -- Hacks\n",
    "\n",
    "- toc: true \n",
    "- badges: true\n",
    "- comments: true\n",
    "- categories: [jupyter]\n",
    "- image: "
   ]
  },
  {
   "attachments": {},
   "cell_type": "markdown",
   "metadata": {},
   "source": [
    "## Hack # 1 -- Create method that sets all elements in array to n"
   ]
  },
  {
   "cell_type": "code",
   "execution_count": 2,
   "metadata": {
    "vscode": {
     "languageId": "java"
    }
   },
   "outputs": [
    {
     "name": "stdout",
     "output_type": "stream",
     "text": [
      "10\n",
      "10\n",
      "10\n",
      "10\n",
      "10\n",
      "10\n",
      "10\n",
      "10\n",
      "10\n",
      "10\n"
     ]
    }
   ],
   "source": [
    "void setArray(int[] arr, int n) {\n",
    "    for (int i = 0; i < array.length; i++){\n",
    "        array[i] = n;\n",
    "    }\n",
    "}\n",
    "\n",
    "int[] array = new int[10];\n",
    "setArray(array, 10);\n",
    "\n",
    "for (int i = 0; i < array.length; i++) {\n",
    "    System.out.println(array[i]);\n",
    "}\n",
    "\n",
    "// Should print all 10s when working properly\n",
    "\n"
   ]
  },
  {
   "attachments": {},
   "cell_type": "markdown",
   "metadata": {},
   "source": [
    "## Hack # 2 -- Write an array to find the average of an array"
   ]
  },
  {
   "cell_type": "code",
   "execution_count": 1,
   "metadata": {
    "vscode": {
     "languageId": "java"
    }
   },
   "outputs": [
    {
     "name": "stdout",
     "output_type": "stream",
     "text": [
      "5\n"
     ]
    }
   ],
   "source": [
    "//Finds the average of an array\n",
    "public static int average(int[] array) {\n",
    "    int sum = 0;\n",
    "    int total = 0;\n",
    "    for (int i = 0; i < array.length; i++){\n",
    "        sum += array[i];\n",
    "        total += 1;\n",
    "    }\n",
    "    int average = sum/total;\n",
    "    return average;\n",
    "}\n",
    "\n",
    "//tester array\n",
    "int[] test = {3, 5, 7, 2, 10};\n",
    "\n",
    "//returns 10\n",
    "System.out.println(average(test));"
   ]
  },
  {
   "attachments": {},
   "cell_type": "markdown",
   "metadata": {},
   "source": [
    "## Hack #3 -- Find the average number of a diagonal in a 2d array"
   ]
  },
  {
   "cell_type": "code",
   "execution_count": 4,
   "metadata": {
    "vscode": {
     "languageId": "java"
    }
   },
   "outputs": [
    {
     "name": "stdout",
     "output_type": "stream",
     "text": [
      "8\n"
     ]
    }
   ],
   "source": [
    "public static int averageDiagonal (int[][] array2D) {\n",
    "    // your code here\n",
    "    int sum = 0;\n",
    "    int total = 0;\n",
    "    for (int i = 0; i < arr.length; i++) {\n",
    "        for (int j = 0; j < arr[i].length; j++) {\n",
    "            if (i == j) {\n",
    "                sum += arr[i][j];\n",
    "                total++;\n",
    "            }\n",
    "        }\n",
    "    }\n",
    "    int avg = sum/total;\n",
    "    return avg;\n",
    "}\n",
    "\n",
    "int[][] arr = {\n",
    "    {1,2,3,4,5,6},\n",
    "    {7,8,9,10,11,12},\n",
    "    {0,1,2,3,4,5},\n",
    "    {10,11,12,13,14,15},\n",
    "    {15,16,17,18,19,20}\n",
    "};\n",
    "\n",
    "System.out.println(averageDiagonal(arr));"
   ]
  },
  {
   "cell_type": "code",
   "execution_count": 1,
   "metadata": {
    "vscode": {
     "languageId": "java"
    }
   },
   "outputs": [
    {
     "name": "stdout",
     "output_type": "stream",
     "text": [
      "Row: 1, Col: 2\n"
     ]
    }
   ],
   "source": [
    "public class Position {\n",
    "    private int row;\n",
    "    private int col;\n",
    "    \n",
    "    public Position(int r, int c){\n",
    "        row = r;\n",
    "        col = c;\n",
    "    } \n",
    "    \n",
    "    public int getRow() {\n",
    "        return row;\n",
    "    }\n",
    "    \n",
    "    public int getCol() {\n",
    "        return col;\n",
    "    }\n",
    "    \n",
    "    public static Position findPosition(int num, int[][] intArr){\n",
    "        for (int r = 0; r < intArr.length; r++){\n",
    "            for (int c = 0; c < intArr[0].length; c++){\n",
    "                if (intArr[r][c] == num) {\n",
    "                    return new Position(r, c);\n",
    "                }\n",
    "            }\n",
    "        }\n",
    "        return null;\n",
    "    }\n",
    "    \n",
    "    public static void main(String[] args) {\n",
    "        int[][] arr = {\n",
    "            {15,5,9,10},\n",
    "            {12,16,11,6},\n",
    "            {14,8,13,7}\n",
    "        };\n",
    "        Position pos = Position.findPosition(11, arr);\n",
    "        System.out.println(\"Row: \" + pos.getRow() + \", Col: \" + pos.getCol());\n",
    "    }\n",
    "}\n",
    "\n",
    "Position.main(null);"
   ]
  }
 ],
 "metadata": {
  "kernelspec": {
   "display_name": "Java",
   "language": "java",
   "name": "java"
  },
  "language_info": {
   "codemirror_mode": "java",
   "file_extension": ".jshell",
   "mimetype": "text/x-java-source",
   "name": "Java",
   "pygments_lexer": "java",
   "version": "11.0.16+8-post-Ubuntu-0ubuntu120.04"
  },
  "orig_nbformat": 4
 },
 "nbformat": 4,
 "nbformat_minor": 2
}
