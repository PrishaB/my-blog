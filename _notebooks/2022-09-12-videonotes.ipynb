{
 "cells": [
  {
   "cell_type": "markdown",
   "metadata": {},
   "source": [
    "# Focus and Skills\n",
    "> Key takeaways from Good Life vid\n",
    "\n",
    "- toc: true \n",
    "- badges: true\n",
    "- comments: true\n",
    "- categories: [jupyter]\n",
    "- image: images/chart-preview.png"
   ]
  },
  {
   "cell_type": "markdown",
   "metadata": {},
   "source": [
    "## Takeaways from vid\n",
    "\n",
    "* Important to prioritize mental, physical, and emotional health\n",
    "* Surprised me even college students feel the same way...usually expected to be better at balance by adulthood\n",
    "* Take time to do things you love in life, not just academic stuff\n",
    "* Take the time to be with others because humans are social beings anywho"
   ]
  },
  {
   "cell_type": "markdown",
   "metadata": {},
   "source": [
    "## Things I'm grateful for\n",
    "\n",
    "* My life in general, it's very privileged tbh\n",
    "* My family\n",
    "* My friends\n",
    "* My body\n",
    "* The place I live in"
   ]
  },
  {
   "cell_type": "markdown",
   "metadata": {},
   "source": [
    "## Goals \n",
    "\n",
    "* Prepare for my classes in advance so I'm not stressed and overwhelmed in the last minute\n",
    "* Spend more time with friends and family (in person not online)\n",
    "* Try to sleep more regularly...rn I sleep at the most random times\n",
    "* Spend more time offline"
   ]
  },
  {
   "cell_type": "markdown",
   "metadata": {},
   "source": [
    "## Thank you Note\n",
    "\n",
    "Grateful to my parents for constantly checking in on my mental health and making sure I'm not too overwhelmed with work. They are always there to help keep me on track and even though I may think it's nagging I know they are just doing it for my sake anyway."
   ]
  }
 ],
 "metadata": {
  "kernelspec": {
   "display_name": "Java",
   "language": "java",
   "name": "java"
  },
  "language_info": {
   "name": "java"
  },
  "orig_nbformat": 4
 },
 "nbformat": 4,
 "nbformat_minor": 2
}
