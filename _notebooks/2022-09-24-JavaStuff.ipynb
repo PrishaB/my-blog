{
 "cells": [
  {
   "cell_type": "markdown",
   "metadata": {},
   "source": [
    "# Week of 9/20\n",
    "> Java Stuff :)\n",
    "\n",
    "- toc: true \n",
    "- badges: true\n",
    "- comments: true\n",
    "- categories: [jupyter]\n",
    "- image: images/chart-preview.png"
   ]
  },
  {
   "cell_type": "markdown",
   "metadata": {},
   "source": [
    "## Project Idea\n",
    "\n",
    "Site dedicated to helping Del Norte students manage their mental health better. "
   ]
  },
  {
   "cell_type": "code",
   "execution_count": 28,
   "metadata": {},
   "outputs": [
    {
     "name": "stdout",
     "output_type": "stream",
     "text": [
      "Welcome to Health.ly!\n"
     ]
    }
   ],
   "source": [
    "// Java program to print greeting\n",
    "class greet {\n",
    "\tpublic static void main(String[] args)\n",
    "\t{\n",
    "\n",
    "\t\tSystem.out.println(\"Welcome to Health.ly!\"); // line that we are printing\n",
    "\n",
    "\t}\n",
    "}\n",
    "greet.main(null); // calling the class to use"
   ]
  },
  {
   "cell_type": "markdown",
   "metadata": {},
   "source": [
    "## Meet our team!\n",
    "\n",
    "Using an array to print members of the team and their jobs on the team."
   ]
  },
  {
   "cell_type": "code",
   "execution_count": 25,
   "metadata": {},
   "outputs": [
    {
     "name": "stdout",
     "output_type": "stream",
     "text": [
      "[[Saumya, Scrum Leader], [Serafina, Deployment], [Armaan, Frontend], [Prisha, Backend]]\n"
     ]
    }
   ],
   "source": [
    "// Array with list of members and positions\n",
    "String[][] positions = {{\"Saumya\", \"Scrum Leader\"},{\"Serafina\", \"Deployment\"}, {\"Armaan\", \"Frontend\"}, {\"Prisha\", \"Backend\"}};\n",
    "\n",
    "// Printing out the array values side by side\n",
    "System.out.println(Arrays.deepToString(positions));"
   ]
  }
 ],
 "metadata": {
  "kernelspec": {
   "display_name": "Java",
   "language": "java",
   "name": "java"
  },
  "language_info": {
   "codemirror_mode": "java",
   "file_extension": ".jshell",
   "mimetype": "text/x-java-source",
   "name": "java",
   "pygments_lexer": "java",
   "version": "11.0.16+8-post-Ubuntu-0ubuntu120.04"
  },
  "orig_nbformat": 4,
  "vscode": {
   "interpreter": {
    "hash": "916dbcbb3f70747c44a77c7bcd40155683ae19c65e1c03b4aa3499c5328201f1"
   }
  }
 },
 "nbformat": 4,
 "nbformat_minor": 2
}
