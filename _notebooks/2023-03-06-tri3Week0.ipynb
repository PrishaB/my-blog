{
 "cells": [
  {
   "cell_type": "markdown",
   "metadata": {},
   "source": [
    "# Blogging Upload Feature on Website\n",
    "> Explaining Code + Problems I had\n",
    "\n",
    "- toc: true \n",
    "- badges: true\n",
    "- comments: true\n",
    "- categories: [jupyter]\n",
    "- image: "
   ]
  },
  {
   "attachments": {},
   "cell_type": "markdown",
   "metadata": {},
   "source": [
    "## Extra Seed Point\n",
    "- Java Addition \n",
    "\n",
    "- Method 1, using built in Java program Integer.toBinaryString "
   ]
  },
  {
   "cell_type": "code",
   "execution_count": 7,
   "metadata": {
    "vscode": {
     "languageId": "java"
    }
   },
   "outputs": [
    {
     "name": "stdout",
     "output_type": "stream",
     "text": [
      "Enter Digit One:\n",
      "Enter Digit Two:\n",
      "Decimal addition sum: 1010\n"
     ]
    }
   ],
   "source": [
    "import java.util.Scanner;\n",
    "\n",
    "class Main {\n",
    "  public static void main(String[] args) {\n",
    "    Scanner myObj = new Scanner(System.in);\n",
    "\n",
    "    System.out.println(\"Enter Digit One:\");\n",
    "    int num1 = myObj.nextInt();\n",
    "\n",
    "    System.out.println(\"Enter Digit Two:\");\n",
    "    int num2 = myObj.nextInt();\n",
    "\n",
    "    int decSum = num1 + num2;\n",
    "\n",
    "    // Output input by user\n",
    "    System.out.println(\"Decimal addition sum: \" + Integer.toBinaryString(decSum));\n",
    "  }\n",
    "}\n",
    "\n",
    "Main.main(null);\n"
   ]
  },
  {
   "attachments": {},
   "cell_type": "markdown",
   "metadata": {},
   "source": [
    "- Method 2, custom method...divide decimal by value...\n",
    "> - Remainder becomes binary value and divide quotient by 2 until you are left with 0 (since it's using integers it'll eventually come down to 1/2 which equals 0)"
   ]
  },
  {
   "cell_type": "code",
   "execution_count": 12,
   "metadata": {
    "vscode": {
     "languageId": "java"
    }
   },
   "outputs": [
    {
     "name": "stdout",
     "output_type": "stream",
     "text": [
      "Enter Digit One:\n",
      "3\n",
      "Enter Digit Two:\n",
      "3\n",
      "Decimal addition sum: 110\n"
     ]
    }
   ],
   "source": [
    "import java.util.Scanner;\n",
    "\n",
    "class Main {\n",
    "  public static void main(String[] args) {\n",
    "    Scanner myObj = new Scanner(System.in);\n",
    "\n",
    "    System.out.println(\"Enter Digit One:\");\n",
    "    int num1 = myObj.nextInt();\n",
    "    System.out.println(num1);\n",
    "\n",
    "    System.out.println(\"Enter Digit Two:\");\n",
    "    int num2 = myObj.nextInt();\n",
    "    System.out.println(num2);\n",
    "\n",
    "    int decSum = num1 + num2;\n",
    "\n",
    "    int n = decSum;\n",
    "\n",
    "    long binaryNumber = 0;\n",
    "    int remainder, i = 1, step = 1;\n",
    "\n",
    "    while (n!=0) {\n",
    "      remainder = n % 2;\n",
    "        n /= 2;\n",
    "\n",
    "        binaryNumber += remainder * i;\n",
    "        i *= 10;\n",
    "    }\n",
    "    \n",
    "    System.out.println(\"Decimal addition sum: \" + binaryNumber);\n",
    "    }\n",
    "\n",
    "  }\n",
    "\n",
    "Main.main(null);"
   ]
  }
 ],
 "metadata": {
  "kernelspec": {
   "display_name": "Java",
   "language": "java",
   "name": "java"
  },
  "language_info": {
   "codemirror_mode": "java",
   "file_extension": ".jshell",
   "mimetype": "text/x-java-source",
   "name": "Java",
   "pygments_lexer": "java",
   "version": "11.0.16+8-post-Ubuntu-0ubuntu120.04"
  },
  "orig_nbformat": 4
 },
 "nbformat": 4,
 "nbformat_minor": 2
}
