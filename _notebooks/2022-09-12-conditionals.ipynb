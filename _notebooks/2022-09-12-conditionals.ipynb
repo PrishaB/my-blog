{
 "cells": [
  {
   "cell_type": "markdown",
   "metadata": {},
   "source": [
    "# Boolean Expressions and If-Else Statements\n",
    "> My explanation of conditional statements, booleans, and De Morgan's law\n",
    "\n",
    "- toc: true \n",
    "- badges: true\n",
    "- comments: true\n",
    "- categories: [jupyter]\n",
    "- image: images/chart-preview.png"
   ]
  },
  {
   "cell_type": "markdown",
   "metadata": {},
   "source": [
    "## Booleans\n",
    "\n",
    "Logical data types that only have true or false values. In java it is usually used to determine which sections of code to execute."
   ]
  },
  {
   "cell_type": "markdown",
   "metadata": {},
   "source": [
    "## If Statements and other Conditionals\n",
    "\n",
    "Will check boolean value and execute based on whether the conditions is met or not. The If statement is used to check the first condition and if that requirement is met, then it will execute the command. The else statement follows after and executes another command in case the original requirement for the if statement was not met. The else if comes in between and shows another condition to meet and will run if it is met."
   ]
  },
  {
   "cell_type": "code",
   "execution_count": null,
   "metadata": {
    "vscode": {
     "languageId": "java"
    }
   },
   "outputs": [],
   "source": [
    "if (score >= 90) {\n",
    "    grade = 'A'; \n",
    " } else if (score >= 80) {\n",
    "    grade = 'B';\n",
    " } else if (score >= 70) {\n",
    "    grade = 'C';\n",
    " } else if (score >= 60) {\n",
    "    grade = 'D';\n",
    " } else {\n",
    "    grade = 'F'\n",
    " }"
   ]
  },
  {
   "cell_type": "markdown",
   "metadata": {},
   "source": [
    "## De Morgan's Law\n",
    "\n",
    "Kind of like probability in stats, it is used to help you add multiple conditions to your boolean value. You can use || to represent \"or\" and && to represent \"and\"."
   ]
  },
  {
   "cell_type": "code",
   "execution_count": 2,
   "metadata": {
    "vscode": {
     "languageId": "java"
    }
   },
   "outputs": [
    {
     "name": "stdout",
     "output_type": "stream",
     "text": [
      "You have a spotted cat\n"
     ]
    }
   ],
   "source": [
    "boolean cat = true;\n",
    "boolean spotted = false;\n",
    "\n",
    "if (!(cat && spotted)){\n",
    "    System.out.println(\"You have a spotted cat\");\n",
    "} else{\n",
    "    System.out.println(\"Your cat is not spotted\");\n",
    "}"
   ]
  }
 ],
 "metadata": {
  "kernelspec": {
   "display_name": "Java",
   "language": "java",
   "name": "java"
  },
  "language_info": {
   "codemirror_mode": "java",
   "file_extension": ".jshell",
   "mimetype": "text/x-java-source",
   "name": "Java",
   "pygments_lexer": "java",
   "version": "11.0.16+8-post-Ubuntu-0ubuntu120.04"
  },
  "orig_nbformat": 4
 },
 "nbformat": 4,
 "nbformat_minor": 2
}
