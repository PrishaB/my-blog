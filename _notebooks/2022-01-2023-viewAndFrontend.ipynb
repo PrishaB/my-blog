{
 "cells": [
  {
   "attachments": {},
   "cell_type": "markdown",
   "metadata": {},
   "source": [
    "# View and Frontend\n",
    "> Notes for week of 01/09\n",
    "\n",
    "- toc: true \n",
    "- badges: true\n",
    "- comments: true\n",
    "- categories: [jupyter]\n",
    "- image: "
   ]
  },
  {
   "attachments": {},
   "cell_type": "markdown",
   "metadata": {},
   "source": [
    "## General Notes \n",
    "\n",
    "- Anything in includes will be found directly...don't need file extension when referencing a document\n",
    "- Design is more important, don't worry about backend for the week...the better the design, the happier Mortensen will be\n",
    "- _site directory --> assemble things to be ready for the web\n",
    "    - That's why there is an index.md and an index.html...html is more ready for the web than md\n",
    "- Every page you render is an html file...anything else is just a coder helper to build a bigger html file\n",
    "- Make a bunch of fragments to create a website...html is static but has stuff like uh action buttons to make it seem alive\n",
    "- He's talking about the database thing from last year now :sob:\n",
    "    - Make a CRUD table based on the project --> doesn't have to be a table, can be a for\n",
    "    - We have to use HTML5 --> has to do with the types...makes it more convenient for us --> prevents input from being incorrect through filtering input (good idea is to look at different inputs for HTML5)\n",
    "- Don't need to wait for a functioning database to do other parts of the code"
   ]
  }
 ],
 "metadata": {
  "kernelspec": {
   "display_name": "Java",
   "language": "java",
   "name": "java"
  },
  "language_info": {
   "name": "java"
  },
  "orig_nbformat": 4
 },
 "nbformat": 4,
 "nbformat_minor": 2
}
