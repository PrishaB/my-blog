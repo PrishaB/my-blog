{
 "cells": [
  {
   "attachments": {},
   "cell_type": "markdown",
   "metadata": {},
   "source": [
    "# Extra Credit I have to do now :unamused:\n",
    "> idk man ;-;\n",
    "\n",
    "- toc: true \n",
    "- badges: true\n",
    "- comments: true\n",
    "- categories: [jupyter]\n",
    "- image: "
   ]
  },
  {
   "attachments": {},
   "cell_type": "markdown",
   "metadata": {},
   "source": [
    "## 2020 FRQ...Putting all parts here cuz why not ehe "
   ]
  },
  {
   "cell_type": "code",
   "execution_count": 18,
   "metadata": {
    "vscode": {
     "languageId": "java"
    }
   },
   "outputs": [
    {
     "name": "stdout",
     "output_type": "stream",
     "text": [
      "Hailstone Sequence: \n",
      "3\n",
      "10\n",
      "5\n",
      "16\n",
      "8\n",
      "4\n",
      "2\n",
      "1\n",
      " \n",
      "Length of Hailstone Sequence: \n"
     ]
    },
    {
     "data": {
      "text/plain": [
       "9"
      ]
     },
     "execution_count": 18,
     "metadata": {},
     "output_type": "execute_result"
    }
   ],
   "source": [
    "public class Hailstone{\n",
    "    public static int hailstoneLength(int n) {    \n",
    "        int length = 1;\n",
    "        System.out.println(\"Hailstone Sequence: \");    \n",
    "        while (n > 1) {        \n",
    "            if (n % 2 == 0){            \n",
    "                n /= 2; \n",
    "            }\n",
    "            else {            \n",
    "                n = 3*n + 1;        \n",
    "            }\n",
    "            System.out.println(n);\n",
    "            length++;    \n",
    "        }\n",
    "\n",
    "        System.out.println(\" \");\n",
    "        System.out.println(\"Length of Hailstone Sequence: \");\n",
    "        return length;\n",
    "    }\n",
    "}\n",
    "\n",
    "Hailstone.hailstoneLength(6);"
   ]
  },
  {
   "cell_type": "code",
   "execution_count": 21,
   "metadata": {
    "vscode": {
     "languageId": "java"
    }
   },
   "outputs": [
    {
     "ename": "CompilationException",
     "evalue": "",
     "output_type": "error",
     "traceback": [
      "\u001b[1m\u001b[30m|   \u001b[1m\u001b[30m        boolean isLong = hailstoneLength(int \u001b[0m\u001b[1m\u001b[30m\u001b[41m\u001b[0m\u001b[1m\u001b[30mn) > int n;\u001b[0m",
      "\u001b[1m\u001b[31m'.class' expected\u001b[0m",
      "",
      "\u001b[1m\u001b[30m|   \u001b[1m\u001b[30m        boolean isLong = hailstoneLength(int n\u001b[0m\u001b[1m\u001b[30m\u001b[41m\u001b[0m\u001b[1m\u001b[30m) > int n;\u001b[0m",
      "\u001b[1m\u001b[31m';' expected\u001b[0m",
      ""
     ]
    }
   ],
   "source": [
    "public class Hailstone{\n",
    "    public static int hailstoneLength(int n) {    \n",
    "        int length = 1;\n",
    "        System.out.println(\"Hailstone Sequence: \");    \n",
    "        while (n > 1) {        \n",
    "            if (n % 2 == 0){            \n",
    "                n /= 2; \n",
    "            }\n",
    "            else {            \n",
    "                n = 3*n + 1;        \n",
    "            }\n",
    "            System.out.println(n);\n",
    "            length++;    \n",
    "        }\n",
    "\n",
    "        System.out.println(\" \");\n",
    "        System.out.println(\"Length of Hailstone Sequence: \");\n",
    "        return length;\n",
    "    }   \n",
    "\n",
    "    public static boolean isLongSeq(int n){\n",
    "        boolean isLong = hailstoneLength(int n) > int n;\n",
    "        return isLong;\n",
    "    }\n",
    "}\n",
    "\n",
    "Hailstone.isLongSeq(7);"
   ]
  }
 ],
 "metadata": {
  "kernelspec": {
   "display_name": "Java",
   "language": "java",
   "name": "java"
  },
  "language_info": {
   "codemirror_mode": "java",
   "file_extension": ".jshell",
   "mimetype": "text/x-java-source",
   "name": "Java",
   "pygments_lexer": "java",
   "version": "11.0.16+8-post-Ubuntu-0ubuntu120.04"
  },
  "orig_nbformat": 4
 },
 "nbformat": 4,
 "nbformat_minor": 2
}
